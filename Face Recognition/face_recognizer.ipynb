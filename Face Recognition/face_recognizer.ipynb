{
 "cells": [
  {
   "cell_type": "code",
   "execution_count": 1,
   "id": "economic-discovery",
   "metadata": {},
   "outputs": [],
   "source": [
    "import pandas as pd\n",
    "import numpy as np\n",
    "import matplotlib.pyplot as plt\n",
    "import seaborn as sns\n",
    "%matplotlib inline\n",
    "from sklearn import datasets\n",
    "from sklearn import model_selection\n",
    "import cv2\n",
    "import os"
   ]
  },
  {
   "cell_type": "code",
   "execution_count": 2,
   "id": "amino-garden",
   "metadata": {},
   "outputs": [],
   "source": [
    "cap = cv2.VideoCapture(0)\n",
    "\n",
    "\n",
    "face_cascade = cv2.CascadeClassifier(\"archive/haarcascade_frontalface_alt.xml\")\n",
    "\n",
    "skip = 0\n",
    "dataset_path = './data/'\n",
    "\n",
    "face_data = []\n",
    "labels = []\n",
    "\n",
    "class_id = 0\n",
    "names = {} "
   ]
  },
  {
   "cell_type": "code",
   "execution_count": 3,
   "id": "functional-reproduction",
   "metadata": {},
   "outputs": [
    {
     "name": "stdout",
     "output_type": "stream",
     "text": [
      "Loaded Priyanshu.npy\n",
      "(36, 30000)\n",
      "(36, 1)\n",
      "(36, 30001)\n"
     ]
    }
   ],
   "source": [
    "for fx in os.listdir(dataset_path):\n",
    "    if fx.endswith('.npy'):\n",
    "\n",
    "        names[class_id] = fx[:-4]\n",
    "        print(\"Loaded \"+ fx)\n",
    "        data_item = np.load(dataset_path+fx)\n",
    "        face_data.append(data_item)\n",
    "\n",
    "\n",
    "        target = class_id*np.ones((data_item.shape[0],))\n",
    "        class_id += 1\n",
    "        labels.append(target)\n",
    "\n",
    "face_dataset = np.concatenate(face_data,axis=0)\n",
    "face_labels = np.concatenate(labels,axis=0).reshape((-1,1))\n",
    "\n",
    "print(face_dataset.shape)\n",
    "print(face_labels.shape)\n",
    "\n",
    "trainset = np.concatenate((face_dataset,face_labels),axis=1)\n",
    "print(trainset.shape)"
   ]
  },
  {
   "cell_type": "code",
   "execution_count": 4,
   "id": "sexual-luxury",
   "metadata": {},
   "outputs": [],
   "source": [
    "def distance(x1, x2):\n",
    "    return np.sqrt(np.sum((x1 - x2)**2))"
   ]
  },
  {
   "cell_type": "code",
   "execution_count": 5,
   "id": "crucial-threat",
   "metadata": {},
   "outputs": [],
   "source": [
    "def knn(train, test, k=5):\n",
    "    dist = []\n",
    "    \n",
    "    for i in range(train.shape[0]):\n",
    "        \n",
    "        ix = train[i, :-1]\n",
    "        iy = train[i, -1]\n",
    "       \n",
    "        d = distance(test, ix)\n",
    "        dist.append([d, iy])\n",
    "    \n",
    "    dk = sorted(dist, key=lambda x: x[0])[:k]\n",
    "   \n",
    "    labels = np.array(dk)[:, -1]\n",
    "    \n",
    "   \n",
    "    output = np.unique(labels, return_counts=True)\n",
    "   \n",
    "    index = np.argmax(output[1])\n",
    "    return output[0][index]"
   ]
  },
  {
   "cell_type": "code",
   "execution_count": null,
   "id": "original-inflation",
   "metadata": {},
   "outputs": [],
   "source": []
  },
  {
   "cell_type": "code",
   "execution_count": 6,
   "id": "young-finding",
   "metadata": {},
   "outputs": [],
   "source": [
    "while True:\n",
    "    ret ,frame = cap.read()\n",
    "    \n",
    "    if ret == False:\n",
    "        continue\n",
    "\n",
    "    faces = face_cascade.detectMultiScale(frame,1.3,5)\n",
    "    \n",
    "    if(len(faces)==0):\n",
    "        continue\n",
    "\n",
    "    for face in faces:\n",
    "        x,y,w,h = face\n",
    "\n",
    "    offset = 10\n",
    "    \n",
    "    face_section = frame[ y-offset: y+h+offset, x - offset: x+ w+ offset]\n",
    "    face_section = cv2.resize(face_section,(100,100))\n",
    "\n",
    "\n",
    "    out = knn(trainset,face_section.flatten())\n",
    "\n",
    "\n",
    "    pred_name = names[int(out)]\n",
    "    cv2.putText(frame, pred_name, (x,y-10) , cv2.FONT_HERSHEY_SIMPLEX,1,(255, 0, 0),2, cv2.LINE_AA)\n",
    "    cv2.rectangle(frame,(x,y),(x+ w,y+ h),(0, 255, 255),2)\n",
    "\n",
    "    cv2.imshow(\"Faces\",frame)\n",
    "\n",
    "    key = cv2.waitKey(1) & 0xFF\n",
    "    if key==ord('q'):\n",
    "        break\n",
    "\n",
    "cap.release()\n",
    "cv2.destroyAllWindows()"
   ]
  },
  {
   "cell_type": "code",
   "execution_count": null,
   "id": "acute-spice",
   "metadata": {},
   "outputs": [],
   "source": []
  },
  {
   "cell_type": "code",
   "execution_count": null,
   "id": "actual-reasoning",
   "metadata": {},
   "outputs": [],
   "source": []
  },
  {
   "cell_type": "code",
   "execution_count": null,
   "id": "furnished-sierra",
   "metadata": {},
   "outputs": [],
   "source": []
  },
  {
   "cell_type": "code",
   "execution_count": null,
   "id": "about-contrast",
   "metadata": {},
   "outputs": [],
   "source": []
  },
  {
   "cell_type": "code",
   "execution_count": null,
   "id": "split-analysis",
   "metadata": {},
   "outputs": [],
   "source": []
  },
  {
   "cell_type": "code",
   "execution_count": null,
   "id": "cathedral-passion",
   "metadata": {},
   "outputs": [],
   "source": []
  },
  {
   "cell_type": "code",
   "execution_count": null,
   "id": "instructional-viewer",
   "metadata": {},
   "outputs": [],
   "source": []
  },
  {
   "cell_type": "code",
   "execution_count": null,
   "id": "threaded-consciousness",
   "metadata": {},
   "outputs": [],
   "source": []
  },
  {
   "cell_type": "code",
   "execution_count": null,
   "id": "black-invalid",
   "metadata": {},
   "outputs": [],
   "source": []
  },
  {
   "cell_type": "code",
   "execution_count": null,
   "id": "distributed-least",
   "metadata": {},
   "outputs": [],
   "source": []
  },
  {
   "cell_type": "code",
   "execution_count": null,
   "id": "attractive-jaguar",
   "metadata": {},
   "outputs": [],
   "source": []
  },
  {
   "cell_type": "code",
   "execution_count": null,
   "id": "indian-turtle",
   "metadata": {},
   "outputs": [],
   "source": []
  },
  {
   "cell_type": "code",
   "execution_count": null,
   "id": "incorrect-david",
   "metadata": {},
   "outputs": [],
   "source": []
  },
  {
   "cell_type": "code",
   "execution_count": null,
   "id": "absolute-occasions",
   "metadata": {},
   "outputs": [],
   "source": []
  },
  {
   "cell_type": "code",
   "execution_count": null,
   "id": "occasional-playlist",
   "metadata": {},
   "outputs": [],
   "source": []
  },
  {
   "cell_type": "code",
   "execution_count": null,
   "id": "dirty-morrison",
   "metadata": {},
   "outputs": [],
   "source": []
  },
  {
   "cell_type": "code",
   "execution_count": null,
   "id": "subsequent-amount",
   "metadata": {},
   "outputs": [],
   "source": []
  },
  {
   "cell_type": "code",
   "execution_count": null,
   "id": "burning-safety",
   "metadata": {},
   "outputs": [],
   "source": []
  },
  {
   "cell_type": "code",
   "execution_count": null,
   "id": "fatty-charlotte",
   "metadata": {},
   "outputs": [],
   "source": []
  },
  {
   "cell_type": "code",
   "execution_count": null,
   "id": "whole-juvenile",
   "metadata": {},
   "outputs": [],
   "source": []
  },
  {
   "cell_type": "code",
   "execution_count": null,
   "id": "broadband-cancer",
   "metadata": {},
   "outputs": [],
   "source": []
  },
  {
   "cell_type": "code",
   "execution_count": null,
   "id": "spectacular-gallery",
   "metadata": {},
   "outputs": [],
   "source": []
  },
  {
   "cell_type": "code",
   "execution_count": null,
   "id": "convenient-balance",
   "metadata": {},
   "outputs": [],
   "source": []
  },
  {
   "cell_type": "code",
   "execution_count": null,
   "id": "immediate-circle",
   "metadata": {},
   "outputs": [],
   "source": []
  },
  {
   "cell_type": "code",
   "execution_count": null,
   "id": "fitted-colony",
   "metadata": {},
   "outputs": [],
   "source": []
  },
  {
   "cell_type": "code",
   "execution_count": null,
   "id": "electric-holiday",
   "metadata": {},
   "outputs": [],
   "source": []
  },
  {
   "cell_type": "code",
   "execution_count": null,
   "id": "outside-lawrence",
   "metadata": {},
   "outputs": [],
   "source": []
  },
  {
   "cell_type": "code",
   "execution_count": null,
   "id": "administrative-wayne",
   "metadata": {},
   "outputs": [],
   "source": []
  },
  {
   "cell_type": "code",
   "execution_count": null,
   "id": "forward-moderator",
   "metadata": {},
   "outputs": [],
   "source": []
  }
 ],
 "metadata": {
  "kernelspec": {
   "display_name": "Python 3",
   "language": "python",
   "name": "python3"
  },
  "language_info": {
   "codemirror_mode": {
    "name": "ipython",
    "version": 3
   },
   "file_extension": ".py",
   "mimetype": "text/x-python",
   "name": "python",
   "nbconvert_exporter": "python",
   "pygments_lexer": "ipython3",
   "version": "3.9.1"
  }
 },
 "nbformat": 4,
 "nbformat_minor": 5
}
