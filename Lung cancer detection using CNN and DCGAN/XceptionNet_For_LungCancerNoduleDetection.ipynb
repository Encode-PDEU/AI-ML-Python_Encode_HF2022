{
  "nbformat": 4,
  "nbformat_minor": 0,
  "metadata": {
    "colab": {
      "provenance": [],
      "machine_shape": "hm"
    },
    "kernelspec": {
      "name": "python3",
      "display_name": "Python 3"
    },
    "language_info": {
      "name": "python"
    },
    "accelerator": "GPU",
    "gpuClass": "standard"
  },
  "cells": [
    {
      "cell_type": "code",
      "execution_count": null,
      "metadata": {
        "colab": {
          "base_uri": "https://localhost:8080/"
        },
        "id": "7WBMAAA6z7k-",
        "outputId": "0f4543f2-6289-4d4b-de7e-16f471f3df57"
      },
      "outputs": [
        {
          "output_type": "stream",
          "name": "stdout",
          "text": [
            "Tensor Flow Version: 2.8.2\n",
            "numpy Version: 1.21.6\n"
          ]
        }
      ],
      "source": [
        "import tensorflow as tf\n",
        "import numpy as np\n",
        "import pathlib\n",
        "import datetime\n",
        "\n",
        "# printout versions\n",
        "print(f\"Tensor Flow Version: {tf.__version__}\")\n",
        "print(f\"numpy Version: {np.version.version}\")"
      ]
    },
    {
      "cell_type": "code",
      "source": [
        "%load_ext tensorboard"
      ],
      "metadata": {
        "id": "IehSyHLT0KzJ"
      },
      "execution_count": null,
      "outputs": []
    },
    {
      "cell_type": "code",
      "source": [
        "from keras.utils.np_utils import to_categorical"
      ],
      "metadata": {
        "id": "pFRQYlyw0K62"
      },
      "execution_count": null,
      "outputs": []
    },
    {
      "cell_type": "code",
      "source": [
        "import json\n",
        "import math\n",
        "import os\n",
        "\n",
        "import cv2\n",
        "from PIL import Image\n",
        "import numpy as np\n",
        "from keras import layers\n",
        "from tensorflow.keras.applications import ResNet50,MobileNet, DenseNet201, InceptionV3, NASNetLarge, InceptionResNetV2, NASNetMobile\n",
        "from keras.callbacks import Callback, ModelCheckpoint, ReduceLROnPlateau, TensorBoard\n",
        "from keras.preprocessing.image import ImageDataGenerator\n",
        "from keras.utils.np_utils import to_categorical\n",
        "from keras.models import Sequential\n",
        "from tensorflow.keras.optimizers import Adam\n",
        "import matplotlib.pyplot as plt\n",
        "import pandas as pd\n",
        "from sklearn.model_selection import train_test_split\n",
        "from sklearn.metrics import cohen_kappa_score, accuracy_score\n",
        "import scipy\n",
        "from tqdm import tqdm\n",
        "import tensorflow as tf\n",
        "from keras import backend as K\n",
        "import gc\n",
        "from functools import partial\n",
        "from sklearn import metrics\n",
        "from collections import Counter\n",
        "import json\n",
        "import itertools\n",
        "\n",
        "\n",
        "%matplotlib inline"
      ],
      "metadata": {
        "id": "7LBqarvz0K_Q"
      },
      "execution_count": null,
      "outputs": []
    },
    {
      "cell_type": "code",
      "source": [
        "luna_cancer_data = np.load('/content/drive/MyDrive/Ramasubramanya/LotusFeet/cancernodule_image_900_96_96_patches.npy')\n",
        "luna_cancer_data = luna_cancer_data[:850]\n",
        "print(luna_cancer_data.shape, luna_cancer_data[0].shape)"
      ],
      "metadata": {
        "colab": {
          "base_uri": "https://localhost:8080/"
        },
        "id": "V1j_z2-ZM86L",
        "outputId": "31bbeeea-aad7-4818-fed9-ad43b68161e7"
      },
      "execution_count": null,
      "outputs": [
        {
          "output_type": "stream",
          "name": "stdout",
          "text": [
            "(850, 96, 96, 1) (96, 96, 1)\n"
          ]
        }
      ]
    },
    {
      "cell_type": "code",
      "source": [
        "luna_cancer_data = luna_cancer_data.reshape(850,96,96)\n",
        "luna_cancer_data_rgb = np.repeat(luna_cancer_data[..., np.newaxis], 3, -1)\n",
        "print(luna_cancer_data_rgb.shape, luna_cancer_data_rgb[0].shape)"
      ],
      "metadata": {
        "colab": {
          "base_uri": "https://localhost:8080/"
        },
        "id": "wCrMO1HOM89i",
        "outputId": "9634c8df-9dda-4468-eba0-f9c5704904f3"
      },
      "execution_count": null,
      "outputs": [
        {
          "output_type": "stream",
          "name": "stdout",
          "text": [
            "(850, 96, 96, 3) (96, 96, 3)\n"
          ]
        }
      ]
    },
    {
      "cell_type": "code",
      "source": [
        "luna_non_cancer_data = np.load(\"/content/drive/MyDrive/Ramasubramanya/LotusFeet/non_cancernodule_image_1400_96_96_patches.npy\")\n",
        "luna_non_cancer_data = luna_non_cancer_data[:850]\n",
        "print(luna_non_cancer_data.shape, luna_non_cancer_data[0].shape)"
      ],
      "metadata": {
        "colab": {
          "base_uri": "https://localhost:8080/"
        },
        "id": "d2_KTP9QM9A0",
        "outputId": "ecc94406-7ae0-4622-88ae-7f56b59f5899"
      },
      "execution_count": null,
      "outputs": [
        {
          "output_type": "stream",
          "name": "stdout",
          "text": [
            "(850, 96, 96, 1) (96, 96, 1)\n"
          ]
        }
      ]
    },
    {
      "cell_type": "code",
      "source": [
        "luna_non_cancer_data = luna_non_cancer_data.reshape(850,96,96)\n",
        "luna_non_cancer_data_rgb = np.repeat(luna_non_cancer_data[..., np.newaxis], 3, -1)\n",
        "print(luna_non_cancer_data_rgb.shape, luna_non_cancer_data_rgb[0].shape)"
      ],
      "metadata": {
        "colab": {
          "base_uri": "https://localhost:8080/"
        },
        "id": "c9T-qMDLM9D3",
        "outputId": "7d68fd4e-0878-49ae-9e39-eff16977f629"
      },
      "execution_count": null,
      "outputs": [
        {
          "output_type": "stream",
          "name": "stdout",
          "text": [
            "(850, 96, 96, 3) (96, 96, 3)\n"
          ]
        }
      ]
    },
    {
      "cell_type": "code",
      "source": [
        "X_luna = np.concatenate((luna_cancer_data_rgb,luna_non_cancer_data_rgb), axis = 0)\n",
        "print(X_luna.shape, X_luna[0].shape)"
      ],
      "metadata": {
        "colab": {
          "base_uri": "https://localhost:8080/"
        },
        "id": "yi8gMT3IM9Gn",
        "outputId": "35a51e7d-35f7-4828-b7c8-2143f515d2fc"
      },
      "execution_count": null,
      "outputs": [
        {
          "output_type": "stream",
          "name": "stdout",
          "text": [
            "(1700, 96, 96, 3) (96, 96, 3)\n"
          ]
        }
      ]
    },
    {
      "cell_type": "code",
      "source": [
        "cancer_labels = np.ones(850)\n",
        "noncancer_labels = np.zeros(850)\n",
        "Y_luna = np.concatenate((cancer_labels,noncancer_labels), axis = 0)"
      ],
      "metadata": {
        "id": "WxBUx0NtM9JR"
      },
      "execution_count": null,
      "outputs": []
    },
    {
      "cell_type": "code",
      "source": [
        "print(X_luna.shape, Y_luna.shape)"
      ],
      "metadata": {
        "colab": {
          "base_uri": "https://localhost:8080/"
        },
        "id": "zpuJgxZZNJx-",
        "outputId": "f165a3bc-81e8-40c8-bd32-1556675f9229"
      },
      "execution_count": null,
      "outputs": [
        {
          "output_type": "stream",
          "name": "stdout",
          "text": [
            "(1700, 96, 96, 3) (1700,)\n"
          ]
        }
      ]
    },
    {
      "cell_type": "code",
      "source": [
        "from sklearn.model_selection import train_test_split\n",
        "(X_luna_train, X_luna_test, y_luna_train, y_luna_test) = train_test_split(X_luna, Y_luna,test_size=0.3, stratify=Y_luna, random_state=42)"
      ],
      "metadata": {
        "id": "tO7Do2NPNJ04"
      },
      "execution_count": null,
      "outputs": []
    },
    {
      "cell_type": "code",
      "source": [
        "print((X_luna_train.shape, X_luna_test.shape, y_luna_train.shape, y_luna_test.shape))"
      ],
      "metadata": {
        "colab": {
          "base_uri": "https://localhost:8080/"
        },
        "id": "lvGdeGqvNJ3t",
        "outputId": "be5f965f-bd53-46b2-abad-9c641a880843"
      },
      "execution_count": null,
      "outputs": [
        {
          "output_type": "stream",
          "name": "stdout",
          "text": [
            "((1190, 96, 96, 3), (510, 96, 96, 3), (1190,), (510,))\n"
          ]
        }
      ]
    },
    {
      "cell_type": "code",
      "source": [
        "# y_luna_train = to_categorical(y_luna_train, num_classes= 2)\n",
        "# y_luna_test = to_categorical(y_luna_test, num_classes= 2)\n",
        "# print(y_luna_train.shape,y_luna_test.shape)"
      ],
      "metadata": {
        "colab": {
          "base_uri": "https://localhost:8080/"
        },
        "id": "8jOE32mcNJ6W",
        "outputId": "62551a13-0f9d-4a8c-99c7-e86414be73de"
      },
      "execution_count": null,
      "outputs": [
        {
          "output_type": "stream",
          "name": "stdout",
          "text": [
            "(1190, 2) (510, 2)\n"
          ]
        }
      ]
    },
    {
      "cell_type": "code",
      "source": [
        "def build_model(backbone, lr=1e-4):\n",
        "    model = Sequential()\n",
        "    model.add(backbone)\n",
        "    model.add(layers.GlobalAveragePooling2D())\n",
        "    model.add(layers.Dropout(0.5))\n",
        "    model.add(layers.BatchNormalization())\n",
        "    model.add(layers.Dense(2, activation='softmax'))\n",
        "    \n",
        "    \n",
        "    model.compile(\n",
        "        loss='categorical_crossentropy',#loss='binary_crossentropy', #\n",
        "        optimizer=Adam(lr=lr),\n",
        "        metrics=['accuracy']\n",
        "    )\n",
        "    \n",
        "    return model"
      ],
      "metadata": {
        "id": "I987pGzDOGj4"
      },
      "execution_count": null,
      "outputs": []
    },
    {
      "cell_type": "code",
      "source": [
        "K.clear_session()\n",
        "gc.collect()\n",
        "\n",
        "xception = tf.keras.applications.Xception(\n",
        "    weights='imagenet',\n",
        "    include_top=False,\n",
        "    input_shape=(96,96,3)\n",
        ")\n",
        "\n",
        "\n",
        " \n",
        "#building RESNET Model\n",
        "\n",
        "xception_luna16_model = build_model(xception ,lr = 1e-4)\n",
        "xception_luna16_model.summary()"
      ],
      "metadata": {
        "colab": {
          "base_uri": "https://localhost:8080/"
        },
        "id": "n5L5VQ7pOGmn",
        "outputId": "9908091a-3435-4adc-8063-5d1728838372"
      },
      "execution_count": null,
      "outputs": [
        {
          "output_type": "stream",
          "name": "stdout",
          "text": [
            "Downloading data from https://storage.googleapis.com/tensorflow/keras-applications/xception/xception_weights_tf_dim_ordering_tf_kernels_notop.h5\n",
            "83689472/83683744 [==============================] - 0s 0us/step\n",
            "83697664/83683744 [==============================] - 0s 0us/step\n",
            "Model: \"sequential\"\n",
            "_________________________________________________________________\n",
            " Layer (type)                Output Shape              Param #   \n",
            "=================================================================\n",
            " xception (Functional)       (None, 3, 3, 2048)        20861480  \n",
            "                                                                 \n",
            " global_average_pooling2d (G  (None, 2048)             0         \n",
            " lobalAveragePooling2D)                                          \n",
            "                                                                 \n",
            " dropout (Dropout)           (None, 2048)              0         \n",
            "                                                                 \n",
            " batch_normalization_4 (Batc  (None, 2048)             8192      \n",
            " hNormalization)                                                 \n",
            "                                                                 \n",
            " dense (Dense)               (None, 2)                 4098      \n",
            "                                                                 \n",
            "=================================================================\n",
            "Total params: 20,873,770\n",
            "Trainable params: 20,815,146\n",
            "Non-trainable params: 58,624\n",
            "_________________________________________________________________\n"
          ]
        },
        {
          "output_type": "stream",
          "name": "stderr",
          "text": [
            "/usr/local/lib/python3.7/dist-packages/keras/optimizer_v2/adam.py:105: UserWarning: The `lr` argument is deprecated, use `learning_rate` instead.\n",
            "  super(Adam, self).__init__(name, **kwargs)\n"
          ]
        }
      ]
    },
    {
      "cell_type": "code",
      "source": [
        "def train_model_xcpetion_luna16():\n",
        "  \n",
        "  # model = create_model()\n",
        "  xception_luna16_model.compile(optimizer='adam',\n",
        "                loss='sparse_categorical_crossentropy',\n",
        "                metrics=['accuracy'])\n",
        "\n",
        "  logdir = os.path.join(\"logs\", \"xception_model_luna16\",datetime.datetime.now().strftime(\"%Y%m%d-%H%M%S\"))\n",
        "  tensorboard_callback = tf.keras.callbacks.TensorBoard(logdir, histogram_freq=1)\n",
        "\n",
        "  xception_luna16_model.fit(x=X_luna_train, \n",
        "            y=y_luna_train, \n",
        "            epochs=20, \n",
        "            validation_data=(X_luna_test, y_luna_test), \n",
        "            callbacks=[tensorboard_callback])\n",
        "\n",
        "train_model_xcpetion_luna16()"
      ],
      "metadata": {
        "colab": {
          "base_uri": "https://localhost:8080/"
        },
        "id": "EwOzbGlsfmq8",
        "outputId": "40e4a43b-62ef-478c-845b-f7868bd262a0"
      },
      "execution_count": null,
      "outputs": [
        {
          "output_type": "stream",
          "name": "stdout",
          "text": [
            "Epoch 1/20\n",
            "38/38 [==============================] - 27s 239ms/step - loss: 0.4481 - accuracy: 0.8235 - val_loss: 0.4116 - val_accuracy: 0.7941\n",
            "Epoch 2/20\n",
            "38/38 [==============================] - 7s 183ms/step - loss: 0.2999 - accuracy: 0.9151 - val_loss: 2.0146 - val_accuracy: 0.6686\n",
            "Epoch 3/20\n",
            "38/38 [==============================] - 7s 182ms/step - loss: 0.1435 - accuracy: 0.9454 - val_loss: 3.5723 - val_accuracy: 0.5412\n",
            "Epoch 4/20\n",
            "38/38 [==============================] - 7s 183ms/step - loss: 0.0840 - accuracy: 0.9748 - val_loss: 3.0952 - val_accuracy: 0.5412\n",
            "Epoch 5/20\n",
            "38/38 [==============================] - 7s 184ms/step - loss: 0.0499 - accuracy: 0.9840 - val_loss: 1.9587 - val_accuracy: 0.6078\n",
            "Epoch 6/20\n",
            "38/38 [==============================] - 7s 184ms/step - loss: 0.0470 - accuracy: 0.9916 - val_loss: 1.4958 - val_accuracy: 0.5667\n",
            "Epoch 7/20\n",
            "38/38 [==============================] - 7s 183ms/step - loss: 0.2582 - accuracy: 0.9059 - val_loss: 33.6104 - val_accuracy: 0.4275\n",
            "Epoch 8/20\n",
            "38/38 [==============================] - 7s 186ms/step - loss: 0.0887 - accuracy: 0.9697 - val_loss: 24.1481 - val_accuracy: 0.6353\n",
            "Epoch 9/20\n",
            "38/38 [==============================] - 7s 184ms/step - loss: 0.0571 - accuracy: 0.9790 - val_loss: 6.9481 - val_accuracy: 0.6824\n",
            "Epoch 10/20\n",
            "38/38 [==============================] - 7s 186ms/step - loss: 0.0460 - accuracy: 0.9874 - val_loss: 5.5807 - val_accuracy: 0.6804\n",
            "Epoch 11/20\n",
            "38/38 [==============================] - 7s 187ms/step - loss: 0.0940 - accuracy: 0.9731 - val_loss: 4.4088 - val_accuracy: 0.5059\n",
            "Epoch 12/20\n",
            "38/38 [==============================] - 7s 189ms/step - loss: 0.1179 - accuracy: 0.9605 - val_loss: 0.6496 - val_accuracy: 0.7176\n",
            "Epoch 13/20\n",
            "38/38 [==============================] - 7s 187ms/step - loss: 0.0351 - accuracy: 0.9849 - val_loss: 9.4669 - val_accuracy: 0.5137\n",
            "Epoch 14/20\n",
            "38/38 [==============================] - 7s 188ms/step - loss: 0.0512 - accuracy: 0.9874 - val_loss: 0.3779 - val_accuracy: 0.8000\n",
            "Epoch 15/20\n",
            "38/38 [==============================] - 7s 188ms/step - loss: 0.0509 - accuracy: 0.9874 - val_loss: 0.3597 - val_accuracy: 0.8549\n",
            "Epoch 16/20\n",
            "38/38 [==============================] - 7s 189ms/step - loss: 0.4213 - accuracy: 0.8277 - val_loss: 0.4468 - val_accuracy: 0.8353\n",
            "Epoch 17/20\n",
            "38/38 [==============================] - 7s 187ms/step - loss: 0.2215 - accuracy: 0.9261 - val_loss: 0.1501 - val_accuracy: 0.9549\n",
            "Epoch 18/20\n",
            "38/38 [==============================] - 7s 190ms/step - loss: 0.1369 - accuracy: 0.9555 - val_loss: 26.2118 - val_accuracy: 0.5745\n",
            "Epoch 19/20\n",
            "38/38 [==============================] - 7s 190ms/step - loss: 0.0461 - accuracy: 0.9882 - val_loss: 0.0911 - val_accuracy: 0.9706\n",
            "Epoch 20/20\n",
            "38/38 [==============================] - 7s 191ms/step - loss: 0.0398 - accuracy: 0.9866 - val_loss: 0.0299 - val_accuracy: 0.9922\n"
          ]
        }
      ]
    },
    {
      "cell_type": "code",
      "source": [
        "def train_model1():\n",
        "  \n",
        "  # model = create_model()\n",
        "  xception_model.compile(optimizer='adam',\n",
        "                loss='sparse_categorical_crossentropy',\n",
        "                metrics=['accuracy'])\n",
        "\n",
        "  logdir = os.path.join(\"logs\", \"xception_model\",datetime.datetime.now().strftime(\"%Y%m%d-%H%M%S\"))\n",
        "  tensorboard_callback = tf.keras.callbacks.TensorBoard(logdir, histogram_freq=1)\n",
        "\n",
        "  xception_model.fit(x=X_luna_train, \n",
        "            y=y_luna_train, \n",
        "            epochs=15, \n",
        "            validation_data=(X_luna_test, y_luna_test), \n",
        "            callbacks=[tensorboard_callback])\n",
        "\n",
        "train_model1()"
      ],
      "metadata": {
        "colab": {
          "base_uri": "https://localhost:8080/"
        },
        "id": "18vqF2pkOGre",
        "outputId": "318df073-ff32-46b1-fcf9-1e20648cf886"
      },
      "execution_count": null,
      "outputs": [
        {
          "output_type": "stream",
          "name": "stdout",
          "text": [
            "Epoch 1/15\n",
            "38/38 [==============================] - 31s 256ms/step - loss: 0.7599 - accuracy: 0.6924 - val_loss: 281.7643 - val_accuracy: 0.5000\n",
            "Epoch 2/15\n",
            "38/38 [==============================] - 6s 159ms/step - loss: 0.3136 - accuracy: 0.8773 - val_loss: 10574.1855 - val_accuracy: 0.5000\n",
            "Epoch 3/15\n",
            "38/38 [==============================] - 6s 159ms/step - loss: 0.1809 - accuracy: 0.9336 - val_loss: 119.5041 - val_accuracy: 0.5020\n",
            "Epoch 4/15\n",
            "38/38 [==============================] - 6s 158ms/step - loss: 0.0798 - accuracy: 0.9739 - val_loss: 1.0622 - val_accuracy: 0.5549\n",
            "Epoch 5/15\n",
            "38/38 [==============================] - 6s 157ms/step - loss: 0.0415 - accuracy: 0.9857 - val_loss: 0.3462 - val_accuracy: 0.8137\n",
            "Epoch 6/15\n",
            "38/38 [==============================] - 6s 160ms/step - loss: 0.0254 - accuracy: 0.9950 - val_loss: 0.3112 - val_accuracy: 0.8529\n",
            "Epoch 7/15\n",
            "38/38 [==============================] - 6s 162ms/step - loss: 0.0373 - accuracy: 0.9882 - val_loss: 0.2872 - val_accuracy: 0.8549\n",
            "Epoch 8/15\n",
            "38/38 [==============================] - 6s 166ms/step - loss: 0.0268 - accuracy: 0.9916 - val_loss: 0.3192 - val_accuracy: 0.8373\n",
            "Epoch 9/15\n",
            "38/38 [==============================] - 6s 156ms/step - loss: 0.0888 - accuracy: 0.9731 - val_loss: 0.3896 - val_accuracy: 0.7706\n",
            "Epoch 10/15\n",
            "38/38 [==============================] - 6s 156ms/step - loss: 0.0976 - accuracy: 0.9765 - val_loss: 1.1153 - val_accuracy: 0.5608\n",
            "Epoch 11/15\n",
            "38/38 [==============================] - 6s 158ms/step - loss: 0.0881 - accuracy: 0.9815 - val_loss: 1.0260 - val_accuracy: 0.7706\n",
            "Epoch 12/15\n",
            "38/38 [==============================] - 6s 158ms/step - loss: 0.0767 - accuracy: 0.9681 - val_loss: 0.1459 - val_accuracy: 0.9647\n",
            "Epoch 13/15\n",
            "38/38 [==============================] - 6s 156ms/step - loss: 0.0456 - accuracy: 0.9849 - val_loss: 0.1744 - val_accuracy: 0.9392\n",
            "Epoch 14/15\n",
            "38/38 [==============================] - 6s 158ms/step - loss: 0.0694 - accuracy: 0.9857 - val_loss: 0.4054 - val_accuracy: 0.8078\n",
            "Epoch 15/15\n",
            "38/38 [==============================] - 6s 158ms/step - loss: 0.2141 - accuracy: 0.9471 - val_loss: 0.8480 - val_accuracy: 0.6137\n"
          ]
        }
      ]
    },
    {
      "cell_type": "code",
      "source": [
        "# extract the predicted probabilities\n",
        "p_pred_train = xception_luna16_model.predict(X_luna_train)"
      ],
      "metadata": {
        "id": "-AbC1e6JyEh3"
      },
      "execution_count": null,
      "outputs": []
    },
    {
      "cell_type": "code",
      "source": [
        "y_pred_train = np.where(p_pred_train > 0.5, 1, 0)\n",
        "print(y_pred_train)"
      ],
      "metadata": {
        "colab": {
          "base_uri": "https://localhost:8080/"
        },
        "id": "yUPzZ52byFz9",
        "outputId": "daa92a0a-efe9-47da-80b8-ddf48ae924f3"
      },
      "execution_count": null,
      "outputs": [
        {
          "output_type": "stream",
          "name": "stdout",
          "text": [
            "[[1 0]\n",
            " [0 1]\n",
            " [1 0]\n",
            " ...\n",
            " [1 0]\n",
            " [1 0]\n",
            " [0 1]]\n"
          ]
        }
      ]
    },
    {
      "cell_type": "code",
      "source": [
        "y_luna_train = to_categorical(y_luna_train, num_classes= 2)"
      ],
      "metadata": {
        "id": "Z4gZygHMyHkT"
      },
      "execution_count": null,
      "outputs": []
    },
    {
      "cell_type": "code",
      "source": [
        "import seaborn as sns\n",
        "import matplotlib.pyplot as plt\n",
        "from sklearn.metrics import confusion_matrix\n",
        "\n",
        "T5_lables = ['Benign','Mlignant']    \n",
        "\n",
        "ax= plt.subplot()\n",
        "\n",
        "cm = confusion_matrix(np.asarray(y_pred_train).argmax(axis=1), np.asarray(y_luna_train).argmax(axis=1))\n",
        "sns.heatmap(cm, annot=True, fmt='g', ax=ax);  #annot=True to annotate cells, ftm='g' to disable scientific notation\n",
        "\n",
        "# labels, title and ticks\n",
        "ax.set_xlabel('Predicted labels');ax.set_ylabel('True labels'); \n",
        "ax.set_title('Confusion Matrix of Nodule Patches from Luna16 - Train Data'); \n",
        "ax.xaxis.set_ticklabels(T5_lables); ax.yaxis.set_ticklabels(T5_lables);"
      ],
      "metadata": {
        "colab": {
          "base_uri": "https://localhost:8080/",
          "height": 295
        },
        "id": "Z0ayv3ukTbXv",
        "outputId": "9c62aa03-2171-481a-e6e1-a2809ab04211"
      },
      "execution_count": null,
      "outputs": [
        {
          "output_type": "display_data",
          "data": {
            "text/plain": [
              "<Figure size 432x288 with 2 Axes>"
            ],
            "image/png": "[encoded data removed]"
          },
          "metadata": {
            "needs_background": "light"
          }
        }
      ]
    },
    {
      "cell_type": "code",
      "source": [
        "# extract the predicted probabilities\n",
        "p_pred_test = xception_luna16_model.predict(X_luna_test)"
      ],
      "metadata": {
        "id": "uemWtiqobrlc"
      },
      "execution_count": null,
      "outputs": []
    },
    {
      "cell_type": "code",
      "source": [
        "y_pred_test = np.where(p_pred_test > 0.5, 1, 0)\n",
        "print(y_pred_test)"
      ],
      "metadata": {
        "colab": {
          "base_uri": "https://localhost:8080/"
        },
        "id": "BRd0QC-Mbr5e",
        "outputId": "303654ce-4f21-4874-bcf9-6ad1f0579bd8"
      },
      "execution_count": null,
      "outputs": [
        {
          "output_type": "stream",
          "name": "stdout",
          "text": [
            "[[1 0]\n",
            " [1 0]\n",
            " [0 1]\n",
            " ...\n",
            " [0 1]\n",
            " [0 1]\n",
            " [1 0]]\n"
          ]
        }
      ]
    },
    {
      "cell_type": "code",
      "source": [
        "y_luna_test = to_categorical(y_luna_test, num_classes= 2)"
      ],
      "metadata": {
        "id": "uBg71mnyckT7"
      },
      "execution_count": null,
      "outputs": []
    },
    {
      "cell_type": "code",
      "source": [
        "import seaborn as sns\n",
        "import matplotlib.pyplot as plt\n",
        "from sklearn.metrics import confusion_matrix\n",
        "\n",
        "T5_lables = ['benign','malignant']    \n",
        "\n",
        "ax= plt.subplot()\n",
        "\n",
        "cm = confusion_matrix(np.asarray(y_pred_test).argmax(axis=1), np.asarray(y_luna_test).argmax(axis=1))\n",
        "sns.heatmap(cm, annot=True, fmt='g', ax=ax);  #annot=True to annotate cells, ftm='g' to disable scientific notation\n",
        "\n",
        "# labels, title and ticks\n",
        "ax.set_xlabel('Predicted labels');ax.set_ylabel('True labels'); \n",
        "ax.set_title('Confusion Matrix of nodule patches from Luna16 - Test Data'); \n",
        "ax.xaxis.set_ticklabels(T5_lables); ax.yaxis.set_ticklabels(T5_lables);"
      ],
      "metadata": {
        "colab": {
          "base_uri": "https://localhost:8080/",
          "height": 295
        },
        "id": "nnxYkFiiTsF4",
        "outputId": "5278ee05-1e4a-4b80-9142-eee663a34c90"
      },
      "execution_count": null,
      "outputs": [
        {
          "output_type": "display_data",
          "data": {
            "text/plain": [
              "<Figure size 432x288 with 2 Axes>"
            ],
            "image/png": "[encoded data removed]"
          },
          "metadata": {
            "needs_background": "light"
          }
        }
      ]
    },
    {
      "cell_type": "code",
      "source": [
        "luna_cancer_data = np.load('/content/drive/MyDrive/Ramasubramanya/LotusFeet/cancernodule_image_900_96_96_patches.npy')\n",
        "testing_luna_cancer_data = luna_cancer_data[850:]\n",
        "print(testing_luna_cancer_data.shape, testing_luna_cancer_data[0].shape)"
      ],
      "metadata": {
        "colab": {
          "base_uri": "https://localhost:8080/"
        },
        "id": "ozEY-o_9_auz",
        "outputId": "61713aec-a523-4395-94f4-836303ceb24a"
      },
      "execution_count": null,
      "outputs": [
        {
          "output_type": "stream",
          "name": "stdout",
          "text": [
            "(50, 96, 96, 1) (96, 96, 1)\n"
          ]
        }
      ]
    },
    {
      "cell_type": "code",
      "source": [
        "testing_luna_cancer_data = testing_luna_cancer_data.reshape(50,96,96)\n",
        "testing_luna_cancer_data_rgb = np.repeat(testing_luna_cancer_data[..., np.newaxis], 3, -1)\n",
        "print(testing_luna_cancer_data_rgb.shape, testing_luna_cancer_data_rgb[0].shape)"
      ],
      "metadata": {
        "colab": {
          "base_uri": "https://localhost:8080/"
        },
        "id": "xs1dElyC_tG_",
        "outputId": "adc0481c-bd3b-4732-f728-537c99c261c9"
      },
      "execution_count": null,
      "outputs": [
        {
          "output_type": "stream",
          "name": "stdout",
          "text": [
            "(50, 96, 96, 3) (96, 96, 3)\n"
          ]
        }
      ]
    },
    {
      "cell_type": "code",
      "source": [
        "luna_non_cancer_data = np.load(\"/content/drive/MyDrive/Ramasubramanya/LotusFeet/non_cancernodule_image_1400_96_96_patches.npy\")\n",
        "testing_luna_non_cancer_data = luna_non_cancer_data[850:900]\n",
        "print(testing_luna_non_cancer_data.shape, testing_luna_non_cancer_data[0].shape)"
      ],
      "metadata": {
        "colab": {
          "base_uri": "https://localhost:8080/"
        },
        "id": "xI-0Jn-G_tKC",
        "outputId": "e0a896a9-d21c-4ac7-d464-9cef2d13321d"
      },
      "execution_count": null,
      "outputs": [
        {
          "output_type": "stream",
          "name": "stdout",
          "text": [
            "(50, 96, 96, 1) (96, 96, 1)\n"
          ]
        }
      ]
    },
    {
      "cell_type": "code",
      "source": [
        "testing_luna_non_cancer_data = testing_luna_non_cancer_data.reshape(50,96,96)\n",
        "testing_luna_non_cancer_data_rgb = np.repeat(testing_luna_non_cancer_data[..., np.newaxis], 3, -1)\n",
        "print(testing_luna_non_cancer_data_rgb.shape, testing_luna_non_cancer_data_rgb[0].shape)"
      ],
      "metadata": {
        "colab": {
          "base_uri": "https://localhost:8080/"
        },
        "id": "FC8q0evQ_tM9",
        "outputId": "a77c2887-591d-4f41-dccf-c66caa9b0723"
      },
      "execution_count": null,
      "outputs": [
        {
          "output_type": "stream",
          "name": "stdout",
          "text": [
            "(50, 96, 96, 3) (96, 96, 3)\n"
          ]
        }
      ]
    },
    {
      "cell_type": "code",
      "source": [
        "X_lunas = np.concatenate((testing_luna_cancer_data_rgb,testing_luna_non_cancer_data_rgb), axis = 0)\n",
        "print(X_lunas.shape, X_lunas[0].shape)"
      ],
      "metadata": {
        "colab": {
          "base_uri": "https://localhost:8080/"
        },
        "id": "OxRtzB_B_tPJ",
        "outputId": "33bd874b-4505-458d-d2cc-e0fc4b5fb988"
      },
      "execution_count": null,
      "outputs": [
        {
          "output_type": "stream",
          "name": "stdout",
          "text": [
            "(100, 96, 96, 3) (96, 96, 3)\n"
          ]
        }
      ]
    },
    {
      "cell_type": "code",
      "source": [
        "testing_cancer_labels = np.ones(50)\n",
        "testing_noncancer_labels = np.zeros(50)\n",
        "Y_lunas = np.concatenate((testing_cancer_labels,testing_noncancer_labels), axis = 0)"
      ],
      "metadata": {
        "id": "fq5vhysC_tS7"
      },
      "execution_count": null,
      "outputs": []
    },
    {
      "cell_type": "code",
      "source": [
        "# extract the predicted probabilities\n",
        "p_pred_tests = xception_luna16_model.predict(X_lunas)"
      ],
      "metadata": {
        "id": "_WGisIYx_tVf"
      },
      "execution_count": null,
      "outputs": []
    },
    {
      "cell_type": "code",
      "source": [
        "y_pred_tests = np.where(p_pred_tests > 0.5, 1, 0)\n",
        "print(y_pred_tests)"
      ],
      "metadata": {
        "colab": {
          "base_uri": "https://localhost:8080/"
        },
        "id": "wWE5byYlAxpF",
        "outputId": "de11c4be-99f3-4e01-ab01-016360432f60"
      },
      "execution_count": null,
      "outputs": [
        {
          "output_type": "stream",
          "name": "stdout",
          "text": [
            "[[0 1]\n",
            " [0 1]\n",
            " [0 1]\n",
            " [0 1]\n",
            " [0 1]\n",
            " [0 1]\n",
            " [0 1]\n",
            " [0 1]\n",
            " [0 1]\n",
            " [0 1]\n",
            " [0 1]\n",
            " [0 1]\n",
            " [0 1]\n",
            " [0 1]\n",
            " [0 1]\n",
            " [0 1]\n",
            " [0 1]\n",
            " [0 1]\n",
            " [0 1]\n",
            " [0 1]\n",
            " [0 1]\n",
            " [0 1]\n",
            " [0 1]\n",
            " [0 1]\n",
            " [0 1]\n",
            " [1 0]\n",
            " [0 1]\n",
            " [0 1]\n",
            " [0 1]\n",
            " [0 1]\n",
            " [0 1]\n",
            " [0 1]\n",
            " [0 1]\n",
            " [0 1]\n",
            " [0 1]\n",
            " [0 1]\n",
            " [0 1]\n",
            " [0 1]\n",
            " [0 1]\n",
            " [0 1]\n",
            " [0 1]\n",
            " [0 1]\n",
            " [0 1]\n",
            " [0 1]\n",
            " [0 1]\n",
            " [0 1]\n",
            " [0 1]\n",
            " [0 1]\n",
            " [0 1]\n",
            " [0 1]\n",
            " [1 0]\n",
            " [1 0]\n",
            " [1 0]\n",
            " [1 0]\n",
            " [1 0]\n",
            " [1 0]\n",
            " [1 0]\n",
            " [1 0]\n",
            " [1 0]\n",
            " [1 0]\n",
            " [1 0]\n",
            " [1 0]\n",
            " [1 0]\n",
            " [1 0]\n",
            " [1 0]\n",
            " [1 0]\n",
            " [1 0]\n",
            " [1 0]\n",
            " [1 0]\n",
            " [1 0]\n",
            " [1 0]\n",
            " [1 0]\n",
            " [1 0]\n",
            " [1 0]\n",
            " [1 0]\n",
            " [1 0]\n",
            " [1 0]\n",
            " [1 0]\n",
            " [1 0]\n",
            " [1 0]\n",
            " [1 0]\n",
            " [1 0]\n",
            " [1 0]\n",
            " [1 0]\n",
            " [1 0]\n",
            " [1 0]\n",
            " [1 0]\n",
            " [1 0]\n",
            " [1 0]\n",
            " [1 0]\n",
            " [1 0]\n",
            " [1 0]\n",
            " [1 0]\n",
            " [1 0]\n",
            " [1 0]\n",
            " [1 0]\n",
            " [1 0]\n",
            " [1 0]\n",
            " [1 0]\n",
            " [1 0]]\n"
          ]
        }
      ]
    },
    {
      "cell_type": "code",
      "source": [
        "Y_lunas = to_categorical(Y_lunas, num_classes= 2)"
      ],
      "metadata": {
        "id": "U-uw2e1oBIjo"
      },
      "execution_count": null,
      "outputs": []
    },
    {
      "cell_type": "code",
      "source": [
        "import seaborn as sns\n",
        "import matplotlib.pyplot as plt\n",
        "from sklearn.metrics import confusion_matrix\n",
        "\n",
        "T5_lables = ['benign','malignant']    \n",
        "\n",
        "ax= plt.subplot()\n",
        "\n",
        "cm = confusion_matrix(np.asarray(y_pred_tests).argmax(axis=1), np.asarray(Y_lunas).argmax(axis=1))\n",
        "sns.heatmap(cm, annot=True, fmt='g', ax=ax);  #annot=True to annotate cells, ftm='g' to disable scientific notation\n",
        "\n",
        "# labels, title and ticks\n",
        "ax.set_xlabel('Predicted labels');ax.set_ylabel('True labels'); \n",
        "ax.set_title('Confusion Matrix of nodule patches from Luna16 - Validation Data'); \n",
        "ax.xaxis.set_ticklabels(T5_lables); ax.yaxis.set_ticklabels(T5_lables);"
      ],
      "metadata": {
        "colab": {
          "base_uri": "https://localhost:8080/",
          "height": 295
        },
        "id": "3KQtdDzkT_WT",
        "outputId": "5f37ea4c-e04a-4c6e-b178-79a06ecd187e"
      },
      "execution_count": null,
      "outputs": [
        {
          "output_type": "display_data",
          "data": {
            "text/plain": [
              "<Figure size 432x288 with 2 Axes>"
            ],
            "image/png": "[encoded data removed]"
          },
          "metadata": {
            "needs_background": "light"
          }
        }
      ]
    },
    {
      "cell_type": "code",
      "source": [
        "pip install visualkeras"
      ],
      "metadata": {
        "colab": {
          "base_uri": "https://localhost:8080/"
        },
        "id": "uwXh4zjIzXrz",
        "outputId": "87c7322a-81d6-4882-8168-8765451a9f7a"
      },
      "execution_count": null,
      "outputs": [
        {
          "output_type": "stream",
          "name": "stdout",
          "text": [
            "Looking in indexes: https://pypi.org/simple, https://us-python.pkg.dev/colab-wheels/public/simple/\n",
            "Collecting visualkeras\n",
            "  Downloading visualkeras-0.0.2-py3-none-any.whl (12 kB)\n",
            "Requirement already satisfied: numpy>=1.18.1 in /usr/local/lib/python3.7/dist-packages (from visualkeras) (1.21.6)\n",
            "Collecting aggdraw>=1.3.11\n",
            "  Downloading aggdraw-1.3.15-cp37-cp37m-manylinux_2_17_x86_64.manylinux2014_x86_64.whl (989 kB)\n",
            "\u001b[K     |████████████████████████████████| 989 kB 4.2 MB/s \n",
            "\u001b[?25hRequirement already satisfied: pillow>=6.2.0 in /usr/local/lib/python3.7/dist-packages (from visualkeras) (7.1.2)\n",
            "Installing collected packages: aggdraw, visualkeras\n",
            "Successfully installed aggdraw-1.3.15 visualkeras-0.0.2\n"
          ]
        }
      ]
    },
    {
      "cell_type": "code",
      "source": [
        "import visualkeras\n",
        "visualkeras.layered_view(xception_luna16_model)"
      ],
      "metadata": {
        "colab": {
          "base_uri": "https://localhost:8080/",
          "height": 44
        },
        "id": "C221oMzbhMV_",
        "outputId": "87794e01-c8cc-43cc-b66e-70d2d6616dd2"
      },
      "execution_count": null,
      "outputs": [
        {
          "output_type": "execute_result",
          "data": {
            "text/plain": [
              "<PIL.Image.Image image mode=RGBA size=906x27 at 0x7FA23850B6D0>"
            ],
            "image/png": "[encoded data removed]"
          },
          "metadata": {},
          "execution_count": 36
        }
      ]
    },
    {
      "cell_type": "code",
      "source": [
        "from sklearn.metrics import roc_curve\n",
        "p_pred_train = xception_luna16_model.predict(X_luna_train)\n",
        "fpr_train, tpr_train, thresholds_train = roc_curve(np.asarray(y_luna_train).argmax(axis=1), np.asarray(p_pred_train).argmax(axis=1))"
      ],
      "metadata": {
        "id": "18_N-POihaVb"
      },
      "execution_count": null,
      "outputs": []
    },
    {
      "cell_type": "code",
      "source": [
        "from sklearn.metrics import auc\n",
        "auc_keras = auc(fpr_train, tpr_train)"
      ],
      "metadata": {
        "id": "VvdOo-FyhaYZ"
      },
      "execution_count": null,
      "outputs": []
    },
    {
      "cell_type": "code",
      "source": [
        "fpr_train = dict()\n",
        "tpr_train = dict()\n",
        "roc_auc = dict()\n",
        "for i in range(2):\n",
        "    fpr_train[i], tpr_train[i], _ = roc_curve(y_luna_train[:, i], p_pred_train[:, i])\n",
        "    roc_auc[i] = auc(fpr_train[i], tpr_train[i])\n",
        "\n",
        "# Compute micro-average ROC curve and ROC area\n",
        "# fpr_train[\"micro\"], tpr_train[\"micro\"], _ = roc_curve(y_luna_train.ravel(), p_pred_train.ravel())\n",
        "# roc_auc[\"micro\"] = auc(fpr_train[\"micro\"], tpr_train[\"micro\"])"
      ],
      "metadata": {
        "id": "4Pg9CvRuhabU"
      },
      "execution_count": null,
      "outputs": []
    },
    {
      "cell_type": "code",
      "source": [
        "from sklearn.metrics import roc_curve\n",
        "p_pred_test = xception_luna16_model.predict(X_luna_test)\n",
        "fpr_test, tpr_test, thresholds_rf = roc_curve(np.asarray(y_luna_test).argmax(axis=1), np.asarray(p_pred_test).argmax(axis=1))"
      ],
      "metadata": {
        "id": "gyVF-52rhaeO"
      },
      "execution_count": null,
      "outputs": []
    },
    {
      "cell_type": "code",
      "source": [
        "from sklearn.metrics import auc\n",
        "auc_rf = auc(fpr_test, tpr_test)"
      ],
      "metadata": {
        "id": "HanH9MxWhag4"
      },
      "execution_count": null,
      "outputs": []
    },
    {
      "cell_type": "code",
      "source": [
        "fpr_te = dict()\n",
        "tpr_te = dict()\n",
        "roc_auc_te = dict()\n",
        "for i in range(2):\n",
        "    fpr_te[i], tpr_te[i], _ = roc_curve(y_luna_test[:, i], p_pred_test[:, i])\n",
        "    roc_auc_te[i] = auc(fpr_te[i], tpr_te[i])\n",
        "\n",
        "# Compute micro-average ROC curve and ROC area\n",
        "# fpr_te[\"micro\"], tpr_te[\"micro\"], _ = roc_curve(y_luna_test.ravel(), p_pred_test.ravel())\n",
        "# roc_auc_te[\"micro\"] = auc(fpr_te[\"micro\"], tpr_te[\"micro\"])"
      ],
      "metadata": {
        "id": "TUkt4DhGhajT"
      },
      "execution_count": null,
      "outputs": []
    },
    {
      "cell_type": "code",
      "source": [
        "from sklearn.metrics import roc_curve\n",
        "p_pred_val = xception_luna16_model.predict(X_lunas)\n",
        "fpr_rff, tpr_rff, thresholds_rf = roc_curve(np.asarray(Y_lunas).argmax(axis=1), np.asarray(p_pred_val).argmax(axis=1))"
      ],
      "metadata": {
        "id": "ZxTqRJrFhalu"
      },
      "execution_count": null,
      "outputs": []
    },
    {
      "cell_type": "code",
      "source": [
        "from sklearn.metrics import auc\n",
        "auc_rff = auc(fpr_rff, tpr_rff)"
      ],
      "metadata": {
        "id": "7rd38UM5haoB"
      },
      "execution_count": null,
      "outputs": []
    },
    {
      "cell_type": "code",
      "source": [
        "fpr_va = dict()\n",
        "tpr_va = dict()\n",
        "roc_auc_va = dict()\n",
        "for i in range(2):\n",
        "    fpr_va[i], tpr_va[i], _ = roc_curve(Y_lunas[:, i], p_pred_val[:, i])\n",
        "    roc_auc[i] = auc(fpr_va[i], fpr_va[i])\n",
        "\n",
        "# Compute micro-average ROC curve and ROC area\n",
        "# fpr_va[\"micro\"], tpr_va[\"micro\"], _ = roc_curve(Y_lunas.ravel(), p_pred_val.ravel())\n",
        "# roc_auc_va[\"micro\"] = auc(fpr_va[\"micro\"], tpr_va[\"micro\"])"
      ],
      "metadata": {
        "id": "lff_rYFlhaqk"
      },
      "execution_count": null,
      "outputs": []
    },
    {
      "cell_type": "code",
      "source": [
        "plt.figure()\n",
        "lw = 2\n",
        "plt.plot(\n",
        "    fpr_train[1],\n",
        "    tpr_train[1],\n",
        "    color=\"darkred\",\n",
        "    lw=lw,\n",
        "    label=\"Training Data\" ,\n",
        ")\n",
        "plt.plot(\n",
        "    fpr_te[1],\n",
        "    tpr_te[1],\n",
        "    color=\"darkorange\",\n",
        "    lw=lw,\n",
        "    label=\"Testing Data\",\n",
        ")\n",
        "plt.plot(\n",
        "    fpr_va[0],\n",
        "    tpr_va[0],\n",
        "    color=\"darkgreen\",\n",
        "    lw=lw,\n",
        "    label=\"Validation Test\",\n",
        ")\n",
        "plt.plot([0, 1], [0, 1], color=\"navy\", lw=lw, linestyle=\"--\")\n",
        "plt.xlim([0.0, 1.0])\n",
        "plt.ylim([0.0, 1.05])\n",
        "plt.xlabel(\"False Positive Rate\")\n",
        "plt.ylabel(\"True Positive Rate\")\n",
        "plt.title(\"ROC curve - Xception - Luna16 Nodule Patches - SGD\")\n",
        "plt.legend(loc=\"lower right\")\n",
        "plt.show()"
      ],
      "metadata": {
        "colab": {
          "base_uri": "https://localhost:8080/",
          "height": 295
        },
        "id": "07KLel1aM0UE",
        "outputId": "41647636-3eb6-4265-fc8a-ebd90101941a"
      },
      "execution_count": null,
      "outputs": [
        {
          "output_type": "display_data",
          "data": {
            "text/plain": [
              "<Figure size 432x288 with 1 Axes>"
            ],
            "image/png": "[encoded data removed]"
          },
          "metadata": {
            "needs_background": "light"
          }
        }
      ]
    },
    {
      "cell_type": "code",
      "source": [
        "plt.figure()\n",
        "lw = 2\n",
        "plt.plot(\n",
        "    fpr_train[1],\n",
        "    tpr_train[1],\n",
        "    color=\"darkred\",\n",
        "    lw=lw,\n",
        "    label=\"Training Data\" ,\n",
        ")\n",
        "plt.plot(\n",
        "    fpr_te[1],\n",
        "    tpr_te[1],\n",
        "    color=\"darkorange\",\n",
        "    lw=lw,\n",
        "    label=\"Testing Data\",\n",
        ")\n",
        "plt.plot(\n",
        "    fpr_va[0],\n",
        "    tpr_va[0],\n",
        "    color=\"darkgreen\",\n",
        "    lw=lw,\n",
        "    label=\"Validation Test\",\n",
        ")\n",
        "plt.plot([0, 1], [0, 1], color=\"navy\", lw=lw, linestyle=\"--\")\n",
        "plt.xlim([0.0, 1.0])\n",
        "plt.ylim([0.0, 1.05])\n",
        "plt.xlabel(\"False Positive Rate\")\n",
        "plt.ylabel(\"True Positive Rate\")\n",
        "plt.title(\"ROC curve - Xception - Luna16 Nodule Patches - SGD\")\n",
        "plt.legend(loc=\"lower right\")\n",
        "plt.show()"
      ],
      "metadata": {
        "colab": {
          "base_uri": "https://localhost:8080/",
          "height": 295
        },
        "id": "mqFeZlTKiKWU",
        "outputId": "412a3b65-d89b-4d53-da5a-68044b993585"
      },
      "execution_count": null,
      "outputs": [
        {
          "output_type": "display_data",
          "data": {
            "text/plain": [
              "<Figure size 432x288 with 1 Axes>"
            ],
            "image/png": "[encoded data removed]"
          },
          "metadata": {
            "needs_background": "light"
          }
        }
      ]
    },
    {
      "cell_type": "code",
      "source": [
        "from sklearn.metrics import classification_report\n",
        "print(classification_report( np.argmax(y_luna_train, axis=1), np.argmax(y_pred_train, axis=1)))"
      ],
      "metadata": {
        "colab": {
          "base_uri": "https://localhost:8080/"
        },
        "id": "oVBgHeHGiKbW",
        "outputId": "7947e668-be54-4be7-a648-bbe439e0795a"
      },
      "execution_count": null,
      "outputs": [
        {
          "output_type": "stream",
          "name": "stdout",
          "text": [
            "              precision    recall  f1-score   support\n",
            "\n",
            "           0       1.00      1.00      1.00       595\n",
            "           1       1.00      1.00      1.00       595\n",
            "\n",
            "    accuracy                           1.00      1190\n",
            "   macro avg       1.00      1.00      1.00      1190\n",
            "weighted avg       1.00      1.00      1.00      1190\n",
            "\n"
          ]
        }
      ]
    },
    {
      "cell_type": "code",
      "source": [
        "from sklearn.metrics import classification_report\n",
        "print(classification_report( np.argmax(y_luna_test, axis=1), np.argmax(p_pred_test, axis=1)))"
      ],
      "metadata": {
        "colab": {
          "base_uri": "https://localhost:8080/"
        },
        "id": "Zmgpw1oChatq",
        "outputId": "ce974c31-893d-4390-c1b9-b6c364e9b2b5"
      },
      "execution_count": null,
      "outputs": [
        {
          "output_type": "stream",
          "name": "stdout",
          "text": [
            "              precision    recall  f1-score   support\n",
            "\n",
            "           0       0.98      1.00      0.99       255\n",
            "           1       1.00      0.98      0.99       255\n",
            "\n",
            "    accuracy                           0.99       510\n",
            "   macro avg       0.99      0.99      0.99       510\n",
            "weighted avg       0.99      0.99      0.99       510\n",
            "\n"
          ]
        }
      ]
    },
    {
      "cell_type": "code",
      "source": [
        "from sklearn.metrics import classification_report\n",
        "print(classification_report( np.argmax(Y_lunas, axis=1), np.argmax(p_pred_val, axis=1)))"
      ],
      "metadata": {
        "colab": {
          "base_uri": "https://localhost:8080/"
        },
        "id": "xKbxUDJxhav_",
        "outputId": "5c67fc69-4928-44c6-c47e-6351aee4c4f7"
      },
      "execution_count": null,
      "outputs": [
        {
          "output_type": "stream",
          "name": "stdout",
          "text": [
            "              precision    recall  f1-score   support\n",
            "\n",
            "           0       0.98      1.00      0.99        50\n",
            "           1       1.00      0.98      0.99        50\n",
            "\n",
            "    accuracy                           0.99       100\n",
            "   macro avg       0.99      0.99      0.99       100\n",
            "weighted avg       0.99      0.99      0.99       100\n",
            "\n"
          ]
        }
      ]
    },
    {
      "cell_type": "code",
      "source": [
        "xception_luna16_model.save(\"/content/drive/MyDrive/Ramasubramanya/CNN_Architectures_Model_Save/xception_luna16_model.h5\")"
      ],
      "metadata": {
        "id": "VFzTxy-ONJUD"
      },
      "execution_count": null,
      "outputs": []
    },
    {
      "cell_type": "code",
      "source": [
        "GAN_Noncancer = np.load('/content/drive/My Drive/yazy/noncancer_lung_04Jun/output/generated_noncancer_nodules_2k_96x96.npy')\n",
        "GAN_Cancer = np.load('/content/drive/MyDrive/yazy/cancer_lung_29May/output/generated_cancer_nodules_2k_96x96.npy')\n",
        "print(GAN_Cancer.shape,GAN_Noncancer.shape,GAN_Cancer[0].shape,GAN_Noncancer[0].shape)"
      ],
      "metadata": {
        "colab": {
          "base_uri": "https://localhost:8080/"
        },
        "id": "HL1EQktx0LCu",
        "outputId": "029000f1-f336-4d60-ee20-a5f33d3ac188"
      },
      "execution_count": null,
      "outputs": [
        {
          "output_type": "stream",
          "name": "stdout",
          "text": [
            "(2000, 96, 96, 3) (2000, 96, 96, 3) (96, 96, 3) (96, 96, 3)\n"
          ]
        }
      ]
    },
    {
      "cell_type": "code",
      "source": [
        "GAN_Cancer = GAN_Cancer[:1700]\n",
        "GAN_Noncancer = GAN_Noncancer[:1700]\n",
        "print(GAN_Cancer.shape,GAN_Noncancer.shape,GAN_Cancer[0].shape,GAN_Noncancer[0].shape)"
      ],
      "metadata": {
        "colab": {
          "base_uri": "https://localhost:8080/"
        },
        "id": "UL8mJzPk4ASz",
        "outputId": "4de88845-e9bf-46c1-a46e-d25f4b5c71f8"
      },
      "execution_count": null,
      "outputs": [
        {
          "output_type": "stream",
          "name": "stdout",
          "text": [
            "(1700, 96, 96, 3) (1700, 96, 96, 3) (96, 96, 3) (96, 96, 3)\n"
          ]
        }
      ]
    },
    {
      "cell_type": "code",
      "source": [
        "X_GAN = np.concatenate((GAN_Cancer, GAN_Noncancer), axis = 0)\n",
        "Y_GAN = np.concatenate((np.ones(1700), np.zeros(1700)), axis = 0)\n",
        "print(X_GAN.shape, Y_GAN.shape)"
      ],
      "metadata": {
        "colab": {
          "base_uri": "https://localhost:8080/"
        },
        "id": "ywe3PFzI0LL0",
        "outputId": "c5dfbcee-b370-4fdf-d211-a4a3f86ddadc"
      },
      "execution_count": null,
      "outputs": [
        {
          "output_type": "stream",
          "name": "stdout",
          "text": [
            "(3400, 96, 96, 3) (3400,)\n"
          ]
        }
      ]
    },
    {
      "cell_type": "code",
      "source": [
        "from sklearn.model_selection import train_test_split\n",
        "(X_GANtrain, X_GANtest, y_GANtrain, y_GANtest) = train_test_split(X_GAN, Y_GAN,test_size=0.3, stratify=Y_GAN, random_state=42)"
      ],
      "metadata": {
        "id": "OglbC_6j0oe6"
      },
      "execution_count": null,
      "outputs": []
    },
    {
      "cell_type": "code",
      "source": [
        "print(X_GANtrain.shape, X_GANtest.shape, y_GANtrain.shape, y_GANtest.shape)"
      ],
      "metadata": {
        "colab": {
          "base_uri": "https://localhost:8080/"
        },
        "id": "Yx7uKz2Q0ohP",
        "outputId": "a2f92dc1-fbab-4bfe-a3f5-7ff816dd9c5c"
      },
      "execution_count": null,
      "outputs": [
        {
          "output_type": "stream",
          "name": "stdout",
          "text": [
            "(2380, 96, 96, 3) (1020, 96, 96, 3) (2380,) (1020,)\n"
          ]
        }
      ]
    },
    {
      "cell_type": "code",
      "source": [
        "def build_model(backbone, lr=1e-4):\n",
        "    model = Sequential()\n",
        "    model.add(backbone)\n",
        "    model.add(layers.GlobalAveragePooling2D())\n",
        "    model.add(layers.Dropout(0.5))\n",
        "    model.add(layers.BatchNormalization())\n",
        "    model.add(layers.Dense(2, activation='softmax'))\n",
        "    \n",
        "    \n",
        "    model.compile(\n",
        "        loss='categorical_crossentropy',#loss='binary_crossentropy', #\n",
        "        optimizer=Adam(lr=lr),\n",
        "        metrics=['accuracy']\n",
        "    )\n",
        "    \n",
        "    return model"
      ],
      "metadata": {
        "id": "IPae8kjJ08y1"
      },
      "execution_count": null,
      "outputs": []
    },
    {
      "cell_type": "code",
      "source": [
        "K.clear_session()\n",
        "gc.collect()\n",
        "\n",
        "xception_GAN = tf.keras.applications.Xception(\n",
        "    weights='imagenet',\n",
        "    include_top=False,\n",
        "    input_shape=(96,96,3)\n",
        ")\n",
        "\n",
        "\n",
        " \n",
        "#building RESNET Model\n",
        "\n",
        "xception_GAN_model = build_model(xception_GAN ,lr = 1e-4)\n",
        "xception_GAN_model.summary()"
      ],
      "metadata": {
        "colab": {
          "base_uri": "https://localhost:8080/"
        },
        "id": "hghl3-yGKVsk",
        "outputId": "ecc7b200-9ea9-48eb-fc74-f5f10e24d3a9"
      },
      "execution_count": null,
      "outputs": [
        {
          "output_type": "stream",
          "name": "stdout",
          "text": [
            "Model: \"sequential\"\n",
            "_________________________________________________________________\n",
            " Layer (type)                Output Shape              Param #   \n",
            "=================================================================\n",
            " xception (Functional)       (None, 3, 3, 2048)        20861480  \n",
            "                                                                 \n",
            " global_average_pooling2d (G  (None, 2048)             0         \n",
            " lobalAveragePooling2D)                                          \n",
            "                                                                 \n",
            " dropout (Dropout)           (None, 2048)              0         \n",
            "                                                                 \n",
            " batch_normalization_4 (Batc  (None, 2048)             8192      \n",
            " hNormalization)                                                 \n",
            "                                                                 \n",
            " dense (Dense)               (None, 2)                 4098      \n",
            "                                                                 \n",
            "=================================================================\n",
            "Total params: 20,873,770\n",
            "Trainable params: 20,815,146\n",
            "Non-trainable params: 58,624\n",
            "_________________________________________________________________\n"
          ]
        },
        {
          "output_type": "stream",
          "name": "stderr",
          "text": [
            "/usr/local/lib/python3.7/dist-packages/keras/optimizer_v2/adam.py:105: UserWarning: The `lr` argument is deprecated, use `learning_rate` instead.\n",
            "  super(Adam, self).__init__(name, **kwargs)\n"
          ]
        }
      ]
    },
    {
      "cell_type": "code",
      "source": [
        "def train_model():\n",
        "  \n",
        "  # model = create_model()\n",
        "  xception_GAN_model.compile(optimizer='adam',\n",
        "                loss='sparse_categorical_crossentropy',\n",
        "                metrics=['accuracy'])\n",
        "\n",
        "  logdir = os.path.join(\"logs\", \"inception_model_GAN\",datetime.datetime.now().strftime(\"%Y%m%d-%H%M%S\"))\n",
        "  tensorboard_callback = tf.keras.callbacks.TensorBoard(logdir, histogram_freq=1)\n",
        "\n",
        "  xception_GAN_model.fit(x=X_GANtrain, \n",
        "            y=y_GANtrain, \n",
        "            epochs=15, \n",
        "            validation_data=(X_GANtest, y_GANtest), \n",
        "            callbacks=[tensorboard_callback])\n",
        "\n",
        "train_model()"
      ],
      "metadata": {
        "colab": {
          "base_uri": "https://localhost:8080/"
        },
        "id": "XGb-Q1F0NZfO",
        "outputId": "8973c8da-64a2-4b7c-c05c-989bc6bd4177"
      },
      "execution_count": null,
      "outputs": [
        {
          "output_type": "stream",
          "name": "stdout",
          "text": [
            "Epoch 1/15\n",
            "75/75 [==============================] - 18s 184ms/step - loss: 0.1753 - accuracy: 0.9357 - val_loss: 0.1402 - val_accuracy: 0.9902\n",
            "Epoch 2/15\n",
            "75/75 [==============================] - 12s 155ms/step - loss: 0.0152 - accuracy: 0.9979 - val_loss: 0.0430 - val_accuracy: 1.0000\n",
            "Epoch 3/15\n",
            "75/75 [==============================] - 12s 157ms/step - loss: 0.0581 - accuracy: 0.9811 - val_loss: 0.1995 - val_accuracy: 0.9676\n",
            "Epoch 4/15\n",
            "75/75 [==============================] - 12s 157ms/step - loss: 0.0350 - accuracy: 0.9908 - val_loss: 0.0103 - val_accuracy: 0.9971\n",
            "Epoch 5/15\n",
            "75/75 [==============================] - 12s 156ms/step - loss: 0.0054 - accuracy: 0.9987 - val_loss: 0.0021 - val_accuracy: 1.0000\n",
            "Epoch 6/15\n",
            "75/75 [==============================] - 12s 155ms/step - loss: 0.0029 - accuracy: 0.9996 - val_loss: 0.0016 - val_accuracy: 1.0000\n",
            "Epoch 7/15\n",
            "75/75 [==============================] - 12s 154ms/step - loss: 3.5637e-04 - accuracy: 1.0000 - val_loss: 4.4127e-04 - val_accuracy: 1.0000\n",
            "Epoch 8/15\n",
            "75/75 [==============================] - 12s 155ms/step - loss: 0.0042 - accuracy: 0.9992 - val_loss: 4.5056e-04 - val_accuracy: 1.0000\n",
            "Epoch 9/15\n",
            "75/75 [==============================] - 12s 155ms/step - loss: 0.0136 - accuracy: 0.9971 - val_loss: 0.0109 - val_accuracy: 0.9951\n",
            "Epoch 10/15\n",
            "75/75 [==============================] - 12s 155ms/step - loss: 0.0117 - accuracy: 0.9983 - val_loss: 0.3941 - val_accuracy: 0.9814\n",
            "Epoch 11/15\n",
            "75/75 [==============================] - 12s 155ms/step - loss: 8.5740e-04 - accuracy: 1.0000 - val_loss: 0.0013 - val_accuracy: 1.0000\n",
            "Epoch 12/15\n",
            "75/75 [==============================] - 12s 155ms/step - loss: 7.4294e-05 - accuracy: 1.0000 - val_loss: 4.0034e-04 - val_accuracy: 1.0000\n",
            "Epoch 13/15\n",
            "75/75 [==============================] - 12s 154ms/step - loss: 9.7125e-05 - accuracy: 1.0000 - val_loss: 1.8171e-04 - val_accuracy: 1.0000\n",
            "Epoch 14/15\n",
            "75/75 [==============================] - 12s 154ms/step - loss: 3.7904e-04 - accuracy: 1.0000 - val_loss: 1.1452e-04 - val_accuracy: 1.0000\n",
            "Epoch 15/15\n",
            "75/75 [==============================] - 12s 155ms/step - loss: 1.6093e-04 - accuracy: 1.0000 - val_loss: 8.1582e-05 - val_accuracy: 1.0000\n"
          ]
        }
      ]
    },
    {
      "cell_type": "code",
      "source": [
        "def train_model():\n",
        "  \n",
        "  # model = create_model()\n",
        "  xception_GAN_model.compile(optimizer='adam',\n",
        "                loss='sparse_categorical_crossentropy',\n",
        "                metrics=['accuracy'])\n",
        "\n",
        "  logdir = os.path.join(\"logs\", \"inception_model_GAN\",datetime.datetime.now().strftime(\"%Y%m%d-%H%M%S\"))\n",
        "  tensorboard_callback = tf.keras.callbacks.TensorBoard(logdir, histogram_freq=1)\n",
        "\n",
        "  xception_GAN_model.fit(x=X_GANtrain, \n",
        "            y=y_GANtrain, \n",
        "            epochs=15, \n",
        "            validation_data=(X_GANtest, y_GANtest), \n",
        "            callbacks=[tensorboard_callback])\n",
        "\n",
        "train_model()"
      ],
      "metadata": {
        "colab": {
          "base_uri": "https://localhost:8080/"
        },
        "id": "q14cYmycjf3x",
        "outputId": "5d4f6c5f-7c60-4d80-cbb2-63f043810b4a"
      },
      "execution_count": null,
      "outputs": [
        {
          "output_type": "stream",
          "name": "stdout",
          "text": [
            "Epoch 1/15\n",
            "75/75 [==============================] - 17s 152ms/step - loss: 0.1707 - accuracy: 0.9382 - val_loss: 0.5431 - val_accuracy: 0.8471\n",
            "Epoch 2/15\n",
            "75/75 [==============================] - 10s 132ms/step - loss: 0.0558 - accuracy: 0.9773 - val_loss: 0.0321 - val_accuracy: 0.9853\n",
            "Epoch 3/15\n",
            "75/75 [==============================] - 10s 133ms/step - loss: 0.0067 - accuracy: 0.9979 - val_loss: 0.0016 - val_accuracy: 1.0000\n",
            "Epoch 4/15\n",
            "75/75 [==============================] - 10s 132ms/step - loss: 0.0025 - accuracy: 0.9996 - val_loss: 0.0028 - val_accuracy: 1.0000\n",
            "Epoch 5/15\n",
            "75/75 [==============================] - 10s 133ms/step - loss: 2.3783e-04 - accuracy: 1.0000 - val_loss: 5.1381e-04 - val_accuracy: 1.0000\n",
            "Epoch 6/15\n",
            "75/75 [==============================] - 10s 132ms/step - loss: 2.0372e-04 - accuracy: 1.0000 - val_loss: 2.1381e-04 - val_accuracy: 1.0000\n",
            "Epoch 7/15\n",
            "75/75 [==============================] - 10s 133ms/step - loss: 1.2751e-04 - accuracy: 1.0000 - val_loss: 1.3133e-04 - val_accuracy: 1.0000\n",
            "Epoch 8/15\n",
            "75/75 [==============================] - 10s 132ms/step - loss: 0.0021 - accuracy: 0.9992 - val_loss: 1.9506e-04 - val_accuracy: 1.0000\n",
            "Epoch 9/15\n",
            "75/75 [==============================] - 10s 132ms/step - loss: 0.0210 - accuracy: 0.9929 - val_loss: 0.1070 - val_accuracy: 0.9814\n",
            "Epoch 10/15\n",
            "75/75 [==============================] - 10s 135ms/step - loss: 0.0180 - accuracy: 0.9941 - val_loss: 0.0767 - val_accuracy: 0.9755\n",
            "Epoch 11/15\n",
            "75/75 [==============================] - 10s 133ms/step - loss: 3.6176e-04 - accuracy: 1.0000 - val_loss: 0.0012 - val_accuracy: 1.0000\n",
            "Epoch 12/15\n",
            "75/75 [==============================] - 10s 133ms/step - loss: 0.0038 - accuracy: 0.9996 - val_loss: 6.3948e-04 - val_accuracy: 1.0000\n",
            "Epoch 13/15\n",
            "75/75 [==============================] - 10s 133ms/step - loss: 9.4222e-04 - accuracy: 0.9996 - val_loss: 0.0117 - val_accuracy: 0.9961\n",
            "Epoch 14/15\n",
            "75/75 [==============================] - 10s 132ms/step - loss: 0.0103 - accuracy: 0.9966 - val_loss: 0.0015 - val_accuracy: 1.0000\n",
            "Epoch 15/15\n",
            "75/75 [==============================] - 10s 133ms/step - loss: 9.4573e-05 - accuracy: 1.0000 - val_loss: 2.0692e-04 - val_accuracy: 1.0000\n"
          ]
        }
      ]
    },
    {
      "cell_type": "code",
      "source": [
        "# extract the predicted probabilities\n",
        "p_pred_GANtrain = xception_GAN_model.predict(X_GANtrain)"
      ],
      "metadata": {
        "id": "CVu9mpYMLZ_z"
      },
      "execution_count": null,
      "outputs": []
    },
    {
      "cell_type": "code",
      "source": [
        "y_pred_GANtrain = np.where(p_pred_GANtrain > 0.5, 1, 0)\n",
        "print(y_pred_GANtrain)"
      ],
      "metadata": {
        "colab": {
          "base_uri": "https://localhost:8080/"
        },
        "id": "xS1NYS8mLvEu",
        "outputId": "6a38f860-cce8-48da-8e7b-ff9dd9312f1b"
      },
      "execution_count": null,
      "outputs": [
        {
          "output_type": "stream",
          "name": "stdout",
          "text": [
            "[[0 1]\n",
            " [0 1]\n",
            " [0 1]\n",
            " ...\n",
            " [0 1]\n",
            " [1 0]\n",
            " [1 0]]\n"
          ]
        }
      ]
    },
    {
      "cell_type": "code",
      "source": [
        "y_GANtrain = to_categorical(y_GANtrain, num_classes= 2)"
      ],
      "metadata": {
        "id": "er2RDneBLvHn"
      },
      "execution_count": null,
      "outputs": []
    },
    {
      "cell_type": "code",
      "source": [
        "import seaborn as sns\n",
        "import matplotlib.pyplot as plt\n",
        "from sklearn.metrics import confusion_matrix\n",
        "\n",
        "T5_lables = ['benign','malignant']    \n",
        "\n",
        "ax= plt.subplot()\n",
        "\n",
        "cm = confusion_matrix(np.asarray(y_pred_GANtrain).argmax(axis=1), np.asarray(y_GANtrain).argmax(axis=1))\n",
        "sns.heatmap(cm, annot=True, fmt='g', ax=ax);  #annot=True to annotate cells, ftm='g' to disable scientific notation\n",
        "\n",
        "# labels, title and ticks\n",
        "ax.set_xlabel('Predicted labels');ax.set_ylabel('True labels'); \n",
        "ax.set_title('Confusion Matrix of Nodule Patches from DCGAN - Train Data'); \n",
        "ax.xaxis.set_ticklabels(T5_lables); ax.yaxis.set_ticklabels(T5_lables);"
      ],
      "metadata": {
        "colab": {
          "base_uri": "https://localhost:8080/",
          "height": 295
        },
        "id": "Pm2YlW1pMKQZ",
        "outputId": "8f639dc8-58dc-463c-ac3a-328e416583d2"
      },
      "execution_count": null,
      "outputs": [
        {
          "output_type": "display_data",
          "data": {
            "text/plain": [
              "<Figure size 432x288 with 2 Axes>"
            ],
            "image/png": "[encoded data removed]"
          },
          "metadata": {
            "needs_background": "light"
          }
        }
      ]
    },
    {
      "cell_type": "code",
      "source": [
        "# extract the predicted probabilities\n",
        "p_pred_GANtest = xception_GAN_model.predict(X_GANtest)"
      ],
      "metadata": {
        "id": "XFFrD2q5MZ4z"
      },
      "execution_count": null,
      "outputs": []
    },
    {
      "cell_type": "code",
      "source": [
        "y_pred_GANtest = np.where(p_pred_GANtest > 0.5, 1, 0)\n",
        "print(y_pred_GANtest)"
      ],
      "metadata": {
        "colab": {
          "base_uri": "https://localhost:8080/"
        },
        "id": "KWEoXIC6MbfZ",
        "outputId": "435f2b67-d530-47f8-cf61-7ba79cc27fc3"
      },
      "execution_count": null,
      "outputs": [
        {
          "output_type": "stream",
          "name": "stdout",
          "text": [
            "[[1 0]\n",
            " [1 0]\n",
            " [0 1]\n",
            " ...\n",
            " [1 0]\n",
            " [1 0]\n",
            " [0 1]]\n"
          ]
        }
      ]
    },
    {
      "cell_type": "code",
      "source": [
        "y_GANtest = to_categorical(y_GANtest, num_classes= 2)"
      ],
      "metadata": {
        "id": "UD9iZfSPMdMs"
      },
      "execution_count": null,
      "outputs": []
    },
    {
      "cell_type": "code",
      "source": [
        "import seaborn as sns\n",
        "import matplotlib.pyplot as plt\n",
        "from sklearn.metrics import confusion_matrix\n",
        "\n",
        "T5_lables = ['benign','malignant']    \n",
        "\n",
        "ax= plt.subplot()\n",
        "\n",
        "cm = confusion_matrix(np.asarray(y_pred_GANtest).argmax(axis=1), np.asarray(y_GANtest).argmax(axis=1))\n",
        "sns.heatmap(cm, annot=True, fmt='g', ax=ax);  #annot=True to annotate cells, ftm='g' to disable scientific notation\n",
        "\n",
        "# labels, title and ticks\n",
        "ax.set_xlabel('Predicted labels');ax.set_ylabel('True labels'); \n",
        "ax.set_title('Confusion Matrix of nodule patches from DCGAN - Test Data'); \n",
        "ax.xaxis.set_ticklabels(T5_lables); ax.yaxis.set_ticklabels(T5_lables);"
      ],
      "metadata": {
        "colab": {
          "base_uri": "https://localhost:8080/",
          "height": 295
        },
        "id": "LSqaZFDfMevN",
        "outputId": "b6fcb8c6-541c-4e7e-9b5d-0fb34a31c4b4"
      },
      "execution_count": null,
      "outputs": [
        {
          "output_type": "display_data",
          "data": {
            "text/plain": [
              "<Figure size 432x288 with 2 Axes>"
            ],
            "image/png": "[encoded data removed]"
          },
          "metadata": {
            "needs_background": "light"
          }
        }
      ]
    },
    {
      "cell_type": "code",
      "source": [
        "GAN_Noncancer = np.load('/content/drive/My Drive/yazy/noncancer_lung_04Jun/output/generated_noncancer_nodules_2k_96x96.npy')\n",
        "GAN_Cancer = np.load('/content/drive/MyDrive/yazy/cancer_lung_29May/output/generated_cancer_nodules_2k_96x96.npy')\n",
        "print(GAN_Cancer.shape,GAN_Noncancer.shape,GAN_Cancer[0].shape,GAN_Noncancer[0].shape)"
      ],
      "metadata": {
        "colab": {
          "base_uri": "https://localhost:8080/"
        },
        "id": "VNW7qXTaNiVT",
        "outputId": "ba4d354d-a4d4-41be-c6cc-9e7456d2c526"
      },
      "execution_count": null,
      "outputs": [
        {
          "output_type": "stream",
          "name": "stdout",
          "text": [
            "(2000, 96, 96, 3) (2000, 96, 96, 3) (96, 96, 3) (96, 96, 3)\n"
          ]
        }
      ]
    },
    {
      "cell_type": "code",
      "source": [
        "testing_GAN_Cancer = GAN_Cancer[1700:]\n",
        "testing_GAN_Noncancer = GAN_Noncancer[1700:]\n",
        "print(testing_GAN_Cancer.shape,testing_GAN_Noncancer.shape,testing_GAN_Cancer[0].shape,testing_GAN_Noncancer[0].shape)"
      ],
      "metadata": {
        "colab": {
          "base_uri": "https://localhost:8080/"
        },
        "id": "zcNdMbmwNiYn",
        "outputId": "3417fcc5-3198-4aeb-98de-d8dfb1fc3af3"
      },
      "execution_count": null,
      "outputs": [
        {
          "output_type": "stream",
          "name": "stdout",
          "text": [
            "(300, 96, 96, 3) (300, 96, 96, 3) (96, 96, 3) (96, 96, 3)\n"
          ]
        }
      ]
    },
    {
      "cell_type": "code",
      "source": [
        "X_GAN_testing = np.concatenate((testing_GAN_Cancer, testing_GAN_Noncancer), axis = 0)\n",
        "Y_GAN_testing = np.concatenate((np.ones(300), np.zeros(300)), axis = 0)\n",
        "print(X_GAN_testing.shape, Y_GAN_testing.shape)"
      ],
      "metadata": {
        "colab": {
          "base_uri": "https://localhost:8080/"
        },
        "id": "Tjo2jrCYNibk",
        "outputId": "9b320478-a283-4c76-a14a-30a85c4d6753"
      },
      "execution_count": null,
      "outputs": [
        {
          "output_type": "stream",
          "name": "stdout",
          "text": [
            "(600, 96, 96, 3) (600,)\n"
          ]
        }
      ]
    },
    {
      "cell_type": "code",
      "source": [
        "# extract the predicted probabilities\n",
        "p_predGAN_testing = xception_GAN_model.predict(X_GAN_testing)"
      ],
      "metadata": {
        "id": "Ih4M-8xqNieB"
      },
      "execution_count": null,
      "outputs": []
    },
    {
      "cell_type": "code",
      "source": [
        "y_pred_GANtesting = np.where(p_predGAN_testing > 0.5, 1, 0)\n",
        "print(y_pred_GANtesting)"
      ],
      "metadata": {
        "colab": {
          "base_uri": "https://localhost:8080/"
        },
        "id": "YZrW4NFMNigb",
        "outputId": "c8ed26ef-2f9b-4fb2-856f-ef26d1a413e1"
      },
      "execution_count": null,
      "outputs": [
        {
          "output_type": "stream",
          "name": "stdout",
          "text": [
            "[[0 1]\n",
            " [0 1]\n",
            " [0 1]\n",
            " ...\n",
            " [1 0]\n",
            " [1 0]\n",
            " [1 0]]\n"
          ]
        }
      ]
    },
    {
      "cell_type": "code",
      "source": [
        "Y_GAN_testing = to_categorical(Y_GAN_testing, num_classes= 2)"
      ],
      "metadata": {
        "id": "RYYqp9TeNijZ"
      },
      "execution_count": null,
      "outputs": []
    },
    {
      "cell_type": "code",
      "source": [
        "import seaborn as sns\n",
        "import matplotlib.pyplot as plt\n",
        "from sklearn.metrics import confusion_matrix\n",
        "\n",
        "T5_lables = ['benign','malignant']    \n",
        "\n",
        "ax= plt.subplot()\n",
        "\n",
        "cm = confusion_matrix(np.asarray(y_pred_GANtesting).argmax(axis=1), np.asarray(Y_GAN_testing).argmax(axis=1))\n",
        "sns.heatmap(cm, annot=True, fmt='g', ax=ax);  #annot=True to annotate cells, ftm='g' to disable scientific notation\n",
        "\n",
        "# labels, title and ticks\n",
        "ax.set_xlabel('Predicted labels');ax.set_ylabel('True labels'); \n",
        "ax.set_title('Confusion Matrix of nodule patches from DCGAN - Validation Data'); \n",
        "ax.xaxis.set_ticklabels(T5_lables); ax.yaxis.set_ticklabels(T5_lables);"
      ],
      "metadata": {
        "colab": {
          "base_uri": "https://localhost:8080/",
          "height": 295
        },
        "id": "_HAX8sVsOhk9",
        "outputId": "eecc9764-ae8a-4d85-ca98-f65877c2a8f9"
      },
      "execution_count": null,
      "outputs": [
        {
          "output_type": "display_data",
          "data": {
            "text/plain": [
              "<Figure size 432x288 with 2 Axes>"
            ],
            "image/png": "[encoded data removed]"
          },
          "metadata": {
            "needs_background": "light"
          }
        }
      ]
    },
    {
      "cell_type": "code",
      "source": [
        "from sklearn.metrics import roc_curve\n",
        "p_GAN_train = xception_GAN_model.predict(X_GANtrain)\n",
        "fpr_keras, tpr_keras, thresholds_keras = roc_curve(np.asarray(y_GANtrain).argmax(axis=1), np.asarray(p_GAN_train).argmax(axis=1))"
      ],
      "metadata": {
        "id": "QeG3VYWUoXIY"
      },
      "execution_count": null,
      "outputs": []
    },
    {
      "cell_type": "code",
      "source": [
        "from sklearn.metrics import auc\n",
        "auc_keras = auc(fpr_keras, tpr_keras)"
      ],
      "metadata": {
        "id": "sBd6Zw5sqDdG"
      },
      "execution_count": null,
      "outputs": []
    },
    {
      "cell_type": "code",
      "source": [
        "fpr_GANtrain = dict()\n",
        "tpr_GANtrain = dict()\n",
        "roc_GANtrainauc = dict()\n",
        "for i in range(2):\n",
        "    fpr_GANtrain[i], tpr_GANtrain[i], _ = roc_curve(y_GANtrain[:, i], p_GAN_train[:, i])\n",
        "    roc_GANtrainauc[i] = auc(fpr_GANtrain[i], tpr_GANtrain[i])\n",
        "\n",
        "# Compute micro-average ROC curve and ROC area\n",
        "# fpr_GANtrain[\"micro\"], tpr_GANtrain[\"micro\"], _ = roc_curve(y_GANtrain.ravel(), p_GAN_train.ravel())\n",
        "# roc_GANtrainauc[\"micro\"] = auc(fpr_GANtrain[\"micro\"], tpr_GANtrain[\"micro\"])"
      ],
      "metadata": {
        "id": "qzAmFodbqGcX"
      },
      "execution_count": null,
      "outputs": []
    },
    {
      "cell_type": "code",
      "source": [
        "from sklearn.metrics import roc_curve\n",
        "p_GAN_test = xception_GAN_model.predict(X_GANtest)\n",
        "fpr_rf, tpr_rf, thresholds_rf = roc_curve(np.asarray(y_GANtest).argmax(axis=1), np.asarray(p_GAN_test).argmax(axis=1))"
      ],
      "metadata": {
        "id": "QvQOFJ-OqK7c"
      },
      "execution_count": null,
      "outputs": []
    },
    {
      "cell_type": "code",
      "source": [
        "from sklearn.metrics import auc\n",
        "auc_rf = auc(fpr_rf, tpr_rf)"
      ],
      "metadata": {
        "id": "sDQ8Y6l4qU7c"
      },
      "execution_count": null,
      "outputs": []
    },
    {
      "cell_type": "code",
      "source": [
        "fpr_GANtest = dict()\n",
        "tpr_GANtest = dict()\n",
        "roc_GANtestauc = dict()\n",
        "for i in range(2):\n",
        "    fpr_GANtest[i], tpr_GANtest[i], _ = roc_curve(y_GANtest[:, i], p_GAN_test[:, i])\n",
        "    roc_GANtestauc[i] = auc(fpr_GANtest[i], tpr_GANtest[i])\n",
        "\n",
        "# Compute micro-average ROC curve and ROC area\n",
        "# fpr_GANtest[\"micro\"], tpr_GANtest[\"micro\"], _ = roc_curve(y_GANtest.ravel(), p_GAN_test.ravel())\n",
        "# roc_GANtestauc[\"micro\"] = auc(fpr_GANtest[\"micro\"], tpr_GANtest[\"micro\"])"
      ],
      "metadata": {
        "id": "QeuHHVwdqV-m"
      },
      "execution_count": null,
      "outputs": []
    },
    {
      "cell_type": "code",
      "source": [
        "from sklearn.metrics import roc_curve\n",
        "p_GAN_testing = xception_GAN_model.predict(X_GAN_testing)\n",
        "fpr_rff, tpr_rff, thresholds_rf = roc_curve(np.asarray(Y_GAN_testing).argmax(axis=1), np.asarray(p_GAN_testing).argmax(axis=1))"
      ],
      "metadata": {
        "id": "3g_yfLSTqaAi"
      },
      "execution_count": null,
      "outputs": []
    },
    {
      "cell_type": "code",
      "source": [
        "from sklearn.metrics import auc\n",
        "auc_rff = auc(fpr_rff, tpr_rff)"
      ],
      "metadata": {
        "id": "sfcuO-8DqzD3"
      },
      "execution_count": null,
      "outputs": []
    },
    {
      "cell_type": "code",
      "source": [
        "fpr_GANtesting = dict()\n",
        "tpr_GANtesting = dict()\n",
        "roc_GANtestauc = dict()\n",
        "for i in range(2):\n",
        "    fpr_GANtesting[i], tpr_GANtesting[i], _ = roc_curve(Y_GAN_testing[:, i], p_GAN_testing[:, i])\n",
        "    roc_GANtestauc[i] = auc(fpr_GANtesting[i], tpr_GANtesting[i])\n",
        "\n",
        "# Compute micro-average ROC curve and ROC area\n",
        "# fpr_GANtesting[\"micro\"], tpr_GANtesting[\"micro\"], _ = roc_curve(y_GANtest.ravel(), p_GAN_test.ravel())\n",
        "# roc_GANtestauc[\"micro\"] = auc(fpr_GANtesting[\"micro\"], tpr_GANtesting[\"micro\"])"
      ],
      "metadata": {
        "id": "IsP0o1OMqzuh"
      },
      "execution_count": null,
      "outputs": []
    },
    {
      "cell_type": "code",
      "source": [
        "plt.figure()\n",
        "lw = 2\n",
        "plt.plot(\n",
        "    fpr_GANtrain[1],\n",
        "    tpr_GANtrain[1],\n",
        "    color=\"darkred\",\n",
        "    lw=lw,\n",
        "    label=\"Training Data\" ,\n",
        ")\n",
        "plt.plot(\n",
        "    fpr_GANtest[1],\n",
        "    tpr_GANtest[1],\n",
        "    color=\"darkorange\",\n",
        "    lw=lw,\n",
        "    label=\"Testing Data\",\n",
        "    linestyle=\"dashdot\",\n",
        ")\n",
        "plt.plot(\n",
        "    fpr_GANtesting[1],\n",
        "    tpr_GANtesting[1],\n",
        "    color=\"darkgreen\",\n",
        "    lw=lw,\n",
        "    label=\"Testing Data\",\n",
        "    linestyle=\"--\",\n",
        ")\n",
        "plt.plot([0, 1], [0, 1], color=\"navy\", lw=lw, linestyle=\"--\")\n",
        "plt.xlim([0.0, 1.0])\n",
        "plt.ylim([0.0, 1.05])\n",
        "plt.xlabel(\"False Positive Rate\")\n",
        "plt.ylabel(\"True Positive Rate\")\n",
        "plt.title(\"ROC curve - Xception - DCGAN Nodule Patches - SGD\")\n",
        "plt.legend(loc=\"lower right\")\n",
        "plt.show()"
      ],
      "metadata": {
        "colab": {
          "base_uri": "https://localhost:8080/",
          "height": 295
        },
        "id": "_cU7amHSq4gv",
        "outputId": "f053e2e4-b55d-4e75-d51a-6ea3ee4a4c2f"
      },
      "execution_count": null,
      "outputs": [
        {
          "output_type": "display_data",
          "data": {
            "text/plain": [
              "<Figure size 432x288 with 1 Axes>"
            ],
            "image/png": "[encoded data removed]"
          },
          "metadata": {
            "needs_background": "light"
          }
        }
      ]
    },
    {
      "cell_type": "code",
      "source": [
        "from sklearn.metrics import classification_report\n",
        "print(classification_report( np.argmax(y_GANtrain, axis=1), np.argmax(p_pred_GANtrain, axis=1)))\n",
        "\n",
        "from sklearn.metrics import classification_report\n",
        "print(classification_report( np.argmax(y_GANtest, axis=1), np.argmax(p_GAN_test, axis=1)))\n",
        "\n",
        "from sklearn.metrics import classification_report\n",
        "print(classification_report( np.argmax(Y_GAN_testing, axis=1), np.argmax(p_GAN_testing, axis=1)))"
      ],
      "metadata": {
        "colab": {
          "base_uri": "https://localhost:8080/"
        },
        "id": "ICB3Qo30q7d9",
        "outputId": "616ac8d1-2588-4847-b448-79e3fad7b1de"
      },
      "execution_count": null,
      "outputs": [
        {
          "output_type": "stream",
          "name": "stdout",
          "text": [
            "              precision    recall  f1-score   support\n",
            "\n",
            "           0       1.00      1.00      1.00      1190\n",
            "           1       1.00      1.00      1.00      1190\n",
            "\n",
            "    accuracy                           1.00      2380\n",
            "   macro avg       1.00      1.00      1.00      2380\n",
            "weighted avg       1.00      1.00      1.00      2380\n",
            "\n",
            "              precision    recall  f1-score   support\n",
            "\n",
            "           0       1.00      1.00      1.00       510\n",
            "           1       1.00      1.00      1.00       510\n",
            "\n",
            "    accuracy                           1.00      1020\n",
            "   macro avg       1.00      1.00      1.00      1020\n",
            "weighted avg       1.00      1.00      1.00      1020\n",
            "\n",
            "              precision    recall  f1-score   support\n",
            "\n",
            "           0       1.00      1.00      1.00       300\n",
            "           1       1.00      1.00      1.00       300\n",
            "\n",
            "    accuracy                           1.00       600\n",
            "   macro avg       1.00      1.00      1.00       600\n",
            "weighted avg       1.00      1.00      1.00       600\n",
            "\n"
          ]
        }
      ]
    },
    {
      "cell_type": "code",
      "source": [
        "xception_GAN_model.save(\"/content/drive/MyDrive/Ramasubramanya/CNN_Architectures_Model_Save/xception_GAN_model.h5\")"
      ],
      "metadata": {
        "id": "IMEptj9yOMT6"
      },
      "execution_count": null,
      "outputs": []
    },
    {
      "cell_type": "code",
      "source": [
        "!tensorboard dev upload --logdir logs"
      ],
      "metadata": {
        "colab": {
          "base_uri": "https://localhost:8080/"
        },
        "id": "at12c6WzOXw_",
        "outputId": "16e30f37-d25b-43a9-c01e-f40d94d067e0"
      },
      "execution_count": null,
      "outputs": [
        {
          "output_type": "stream",
          "name": "stdout",
          "text": [
            "Upload started and will continue reading any new data as it's added to the logdir.\n",
            "\n",
            "To stop uploading, press Ctrl-C.\n",
            "\n",
            "New experiment created. View your TensorBoard at: https://tensorboard.dev/experiment/1TVKPTGgR1q419S6ngfReA/\n",
            "\n",
            "\u001b[1m[2022-07-26T11:27:45]\u001b[0m Started scanning logdir.\n",
            "\u001b[1m[2022-07-26T11:28:01]\u001b[0m Total uploaded: 210 scalars, 8400 tensors (5.9 MB), 2 binary objects (1.3 MB)\n",
            "Traceback (most recent call last):\n",
            "  File \"/usr/local/bin/tensorboard\", line 8, in <module>\n",
            "    sys.exit(run_main())\n",
            "  File \"/usr/local/lib/python3.7/dist-packages/tensorboard/main.py\", line 46, in run_main\n",
            "    app.run(tensorboard.main, flags_parser=tensorboard.configure)\n",
            "  File \"/usr/local/lib/python3.7/dist-packages/absl/app.py\", line 308, in run\n",
            "    _run_main(main, args)\n",
            "  File \"/usr/local/lib/python3.7/dist-packages/absl/app.py\", line 254, in _run_main\n",
            "    sys.exit(main(argv))\n",
            "  File \"/usr/local/lib/python3.7/dist-packages/tensorboard/program.py\", line 276, in main\n",
            "    return runner(self.flags) or 0\n",
            "  File \"/usr/local/lib/python3.7/dist-packages/tensorboard/uploader/uploader_subcommand.py\", line 692, in run\n",
            "    return _run(flags, self._experiment_url_callback)\n",
            "  File \"/usr/local/lib/python3.7/dist-packages/tensorboard/uploader/uploader_subcommand.py\", line 125, in _run\n",
            "    intent.execute(server_info, channel)\n",
            "  File \"/usr/local/lib/python3.7/dist-packages/tensorboard/uploader/uploader_subcommand.py\", line 508, in execute\n",
            "    sys.stdout.write(end_message + \"\\n\")\n",
            "KeyboardInterrupt\n"
          ]
        }
      ]
    },
    {
      "cell_type": "code",
      "source": [],
      "metadata": {
        "id": "Vd7ZEUwZQciw"
      },
      "execution_count": null,
      "outputs": []
    }
  ]
}