{
 "cells": [
  {
   "cell_type": "markdown",
   "metadata": {},
   "source": [
    "## Importing Dataset"
   ]
  },
  {
   "cell_type": "code",
   "execution_count": 1,
   "metadata": {},
   "outputs": [],
   "source": [
    "import pandas as pd\n",
    "import math\n",
    "import os\n",
    "import numpy as np"
   ]
  },
  {
   "cell_type": "markdown",
   "metadata": {},
   "source": [
    "## Loading Dataset "
   ]
  },
  {
   "cell_type": "code",
   "execution_count": 2,
   "metadata": {},
   "outputs": [],
   "source": [
    "data = pd.read_csv(\"Tennis.csv\")\n",
    "# print(data)\n",
    "features = [feat for feat in data]\n",
    "# features.remove(\"ID\")\n",
    "features.remove(\"playtennis\")"
   ]
  },
  {
   "cell_type": "markdown",
   "metadata": {},
   "source": [
    "## Creating Decision Tree using ID3 Algorithm"
   ]
  },
  {
   "cell_type": "code",
   "execution_count": 3,
   "metadata": {},
   "outputs": [
    {
     "name": "stdout",
     "output_type": "stream",
     "text": [
      "outlook\n",
      "\tovercast ->  ['yes']\n",
      "\n",
      "\train\n",
      "\t\twind\n",
      "\t\t\tstrong ->  ['no']\n",
      "\n",
      "\t\t\tweak ->  ['yes']\n",
      "\n",
      "\tsunny\n",
      "\t\thumidity\n",
      "\t\t\thigh ->  ['no']\n",
      "\n",
      "\t\t\tnormal ->  ['yes']\n",
      "\n"
     ]
    }
   ],
   "source": [
    "class Node:\n",
    "    def __init__(self):\n",
    "        self.children = []\n",
    "        self.value = \"\"\n",
    "        self.isLeaf = False\n",
    "        self.pred = \"\"\n",
    "        \n",
    "def entropy(examples):\n",
    "    pos = 0.0\n",
    "    neg = 0.0\n",
    "    for _, row in examples.iterrows():\n",
    "        if row[\"playtennis\"] == \"yes\":\n",
    "            pos += 1\n",
    "        else:\n",
    "            neg += 1\n",
    "    if pos == 0.0 or neg == 0.0:\n",
    "        return 0.0\n",
    "    else:\n",
    "        p = pos / (pos + neg)\n",
    "        n = neg / (pos + neg)\n",
    "        return -(p * math.log(p, 2) + n * math.log(n, 2))\n",
    "\n",
    "def info_gain(examples, attr):\n",
    "    uniq = np.unique(examples[attr])\n",
    "    gain = entropy(examples)\n",
    "    for u in uniq:\n",
    "        subdata = examples[examples[attr] == u]\n",
    "        sub_e = entropy(subdata)\n",
    "        gain -= (float(len(subdata)) / float(len(examples))) * sub_e\n",
    "    return gain\n",
    "\n",
    "def ID3(examples, attrs):\n",
    "    root = Node()\n",
    "    max_gain = 0.0\n",
    "    max_feat = \"\"\n",
    "    for feature in attrs:\n",
    "        gain = info_gain(examples, feature)\n",
    "        if gain == 0.0:\n",
    "            return None\n",
    "        if gain > max_gain:\n",
    "            max_gain = gain\n",
    "            max_feat = feature\n",
    "    root.value = max_feat\n",
    "    \n",
    "    if max_feat not in features:\n",
    "        return\n",
    "    uniq = np.unique(examples[max_feat])\n",
    "    for u in uniq:\n",
    "        subdata = examples[examples[max_feat] == u]\n",
    "        if entropy(subdata) == 0:\n",
    "            newNode = Node()\n",
    "            newNode.isLeaf = True\n",
    "            newNode.value = u\n",
    "            newNode.pred = np.unique(subdata[\"playtennis\"])\n",
    "            root.children.append(newNode)\n",
    "        else:\n",
    "            dummyNode = Node()\n",
    "            dummyNode.value = u\n",
    "            new_attrs = attrs.copy()\n",
    "            new_attrs.remove(max_feat)\n",
    "            child = ID3(subdata, new_attrs)\n",
    "            dummyNode.children.append(child)\n",
    "            root.children.append(dummyNode)\n",
    "    return root\n",
    "\n",
    "def printTree(root: Node, depth=0):\n",
    "    for i in range(depth):\n",
    "        print(\"\\t\", end=\"\")\n",
    "    if root is not None:\n",
    "        print(root.value, end=\"\")\n",
    "    if root is not None and root.isLeaf:\n",
    "        print(\" -> \", root.pred)\n",
    "    print()\n",
    "    if root is not None:\n",
    "        for child in root.children:\n",
    "            printTree(child, depth + 1)\n",
    "\n",
    "root = ID3(data, features)\n",
    "printTree(root)"
   ]
  }
 ],
 "metadata": {
  "kernelspec": {
   "display_name": "Python 3",
   "language": "python",
   "name": "python3"
  },
  "language_info": {
   "codemirror_mode": {
    "name": "ipython",
    "version": 3
   },
   "file_extension": ".py",
   "mimetype": "text/x-python",
   "name": "python",
   "nbconvert_exporter": "python",
   "pygments_lexer": "ipython3",
   "version": "3.8.5"
  }
 },
 "nbformat": 4,
 "nbformat_minor": 5
}
